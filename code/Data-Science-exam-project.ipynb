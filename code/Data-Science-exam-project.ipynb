{
 "cells": [
  {
   "cell_type": "markdown",
   "id": "9befe0f9-d6d0-43f6-88a6-71de1cdffd9c",
   "metadata": {
    "tags": []
   },
   "source": [
    "# Assignment 9 - Clustering\n",
    "\n",
    "- Allan Simonsen\n",
    "- Jean-Poul Leth-Møller\n",
    "- Nina Lisakowski\n"
   ]
  },
  {
   "cell_type": "markdown",
   "id": "1bcdd659-1b40-42a8-998e-d6eb56112d22",
   "metadata": {},
   "source": [
    "## 1. Setup"
   ]
  },
  {
   "cell_type": "code",
   "execution_count": 1,
   "id": "99ae392e-0ad5-49c2-8a94-e93b9381032d",
   "metadata": {},
   "outputs": [],
   "source": [
    "#The following libraries and modules are needed.\n",
    "\n",
    "# import pandas for structuring the data\n",
    "import pandas as pd\n",
    "from pandas.plotting import scatter_matrix\n",
    "\n",
    "\n",
    "# numpy for splitting the data\n",
    "import numpy as np\n",
    "\n",
    "# plotting\n",
    "import seaborn as sns\n",
    "import matplotlib.pyplot as plt"
   ]
  },
  {
   "cell_type": "markdown",
   "id": "b74b4882-8393-48ec-8ab1-077bb48847ea",
   "metadata": {},
   "source": [
    "## 2. Import of data"
   ]
  },
  {
   "cell_type": "markdown",
   "id": "91a17976-a946-4144-b857-492c3d9f685a",
   "metadata": {},
   "source": [
    "#### 2.1 Ticker dataset"
   ]
  },
  {
   "cell_type": "code",
   "execution_count": 2,
   "id": "82bb8fbb-400e-412d-a59a-cebaab2926ed",
   "metadata": {},
   "outputs": [],
   "source": [
    "ticker_df = pd.read_csv('../data/stock_market_data/nasdaq/csv/NVDA.csv', delimiter=\",\")"
   ]
  },
  {
   "cell_type": "code",
   "execution_count": 3,
   "id": "8ce42c81-a7b0-4f79-9aad-0467ab751b04",
   "metadata": {},
   "outputs": [
    {
     "data": {
      "text/html": [
       "<div>\n",
       "<style scoped>\n",
       "    .dataframe tbody tr th:only-of-type {\n",
       "        vertical-align: middle;\n",
       "    }\n",
       "\n",
       "    .dataframe tbody tr th {\n",
       "        vertical-align: top;\n",
       "    }\n",
       "\n",
       "    .dataframe thead th {\n",
       "        text-align: right;\n",
       "    }\n",
       "</style>\n",
       "<table border=\"1\" class=\"dataframe\">\n",
       "  <thead>\n",
       "    <tr style=\"text-align: right;\">\n",
       "      <th></th>\n",
       "      <th>Date</th>\n",
       "      <th>Low</th>\n",
       "      <th>Open</th>\n",
       "      <th>Volume</th>\n",
       "      <th>High</th>\n",
       "      <th>Close</th>\n",
       "      <th>Adjusted Close</th>\n",
       "    </tr>\n",
       "  </thead>\n",
       "  <tbody>\n",
       "    <tr>\n",
       "      <th>0</th>\n",
       "      <td>22-01-1999</td>\n",
       "      <td>0.388021</td>\n",
       "      <td>0.437500</td>\n",
       "      <td>271468800</td>\n",
       "      <td>0.488281</td>\n",
       "      <td>0.410156</td>\n",
       "      <td>0.376886</td>\n",
       "    </tr>\n",
       "    <tr>\n",
       "      <th>1</th>\n",
       "      <td>25-01-1999</td>\n",
       "      <td>0.410156</td>\n",
       "      <td>0.442708</td>\n",
       "      <td>51048000</td>\n",
       "      <td>0.458333</td>\n",
       "      <td>0.453125</td>\n",
       "      <td>0.416370</td>\n",
       "    </tr>\n",
       "    <tr>\n",
       "      <th>2</th>\n",
       "      <td>26-01-1999</td>\n",
       "      <td>0.411458</td>\n",
       "      <td>0.458333</td>\n",
       "      <td>34320000</td>\n",
       "      <td>0.467448</td>\n",
       "      <td>0.417969</td>\n",
       "      <td>0.384065</td>\n",
       "    </tr>\n",
       "    <tr>\n",
       "      <th>3</th>\n",
       "      <td>27-01-1999</td>\n",
       "      <td>0.395833</td>\n",
       "      <td>0.419271</td>\n",
       "      <td>24436800</td>\n",
       "      <td>0.429688</td>\n",
       "      <td>0.416667</td>\n",
       "      <td>0.382869</td>\n",
       "    </tr>\n",
       "    <tr>\n",
       "      <th>4</th>\n",
       "      <td>28-01-1999</td>\n",
       "      <td>0.412760</td>\n",
       "      <td>0.416667</td>\n",
       "      <td>22752000</td>\n",
       "      <td>0.419271</td>\n",
       "      <td>0.415365</td>\n",
       "      <td>0.381673</td>\n",
       "    </tr>\n",
       "  </tbody>\n",
       "</table>\n",
       "</div>"
      ],
      "text/plain": [
       "         Date       Low      Open     Volume      High     Close  \\\n",
       "0  22-01-1999  0.388021  0.437500  271468800  0.488281  0.410156   \n",
       "1  25-01-1999  0.410156  0.442708   51048000  0.458333  0.453125   \n",
       "2  26-01-1999  0.411458  0.458333   34320000  0.467448  0.417969   \n",
       "3  27-01-1999  0.395833  0.419271   24436800  0.429688  0.416667   \n",
       "4  28-01-1999  0.412760  0.416667   22752000  0.419271  0.415365   \n",
       "\n",
       "   Adjusted Close  \n",
       "0        0.376886  \n",
       "1        0.416370  \n",
       "2        0.384065  \n",
       "3        0.382869  \n",
       "4        0.381673  "
      ]
     },
     "execution_count": 3,
     "metadata": {},
     "output_type": "execute_result"
    }
   ],
   "source": [
    "ticker_df.head()"
   ]
  },
  {
   "cell_type": "code",
   "execution_count": 4,
   "id": "f6c7cb9d-3d45-4108-bc03-7085f47ed634",
   "metadata": {},
   "outputs": [
    {
     "data": {
      "text/html": [
       "<div>\n",
       "<style scoped>\n",
       "    .dataframe tbody tr th:only-of-type {\n",
       "        vertical-align: middle;\n",
       "    }\n",
       "\n",
       "    .dataframe tbody tr th {\n",
       "        vertical-align: top;\n",
       "    }\n",
       "\n",
       "    .dataframe thead th {\n",
       "        text-align: right;\n",
       "    }\n",
       "</style>\n",
       "<table border=\"1\" class=\"dataframe\">\n",
       "  <thead>\n",
       "    <tr style=\"text-align: right;\">\n",
       "      <th></th>\n",
       "      <th>Date</th>\n",
       "      <th>Low</th>\n",
       "      <th>Open</th>\n",
       "      <th>Volume</th>\n",
       "      <th>High</th>\n",
       "      <th>Close</th>\n",
       "      <th>Adjusted Close</th>\n",
       "    </tr>\n",
       "  </thead>\n",
       "  <tbody>\n",
       "    <tr>\n",
       "      <th>5848</th>\n",
       "      <td>19-04-2022</td>\n",
       "      <td>213.139999</td>\n",
       "      <td>217.199997</td>\n",
       "      <td>51278100</td>\n",
       "      <td>223.729996</td>\n",
       "      <td>221.979996</td>\n",
       "      <td>221.979996</td>\n",
       "    </tr>\n",
       "    <tr>\n",
       "      <th>5849</th>\n",
       "      <td>20-04-2022</td>\n",
       "      <td>212.000000</td>\n",
       "      <td>225.169998</td>\n",
       "      <td>46897400</td>\n",
       "      <td>226.699997</td>\n",
       "      <td>214.820007</td>\n",
       "      <td>214.820007</td>\n",
       "    </tr>\n",
       "    <tr>\n",
       "      <th>5850</th>\n",
       "      <td>21-04-2022</td>\n",
       "      <td>200.000000</td>\n",
       "      <td>217.089996</td>\n",
       "      <td>65620900</td>\n",
       "      <td>223.919998</td>\n",
       "      <td>201.830002</td>\n",
       "      <td>201.830002</td>\n",
       "    </tr>\n",
       "    <tr>\n",
       "      <th>5851</th>\n",
       "      <td>22-04-2022</td>\n",
       "      <td>195.000000</td>\n",
       "      <td>203.029999</td>\n",
       "      <td>62356500</td>\n",
       "      <td>204.860001</td>\n",
       "      <td>195.149994</td>\n",
       "      <td>195.149994</td>\n",
       "    </tr>\n",
       "    <tr>\n",
       "      <th>5852</th>\n",
       "      <td>25-04-2022</td>\n",
       "      <td>190.960007</td>\n",
       "      <td>192.020004</td>\n",
       "      <td>53252181</td>\n",
       "      <td>198.460007</td>\n",
       "      <td>194.479996</td>\n",
       "      <td>194.479996</td>\n",
       "    </tr>\n",
       "  </tbody>\n",
       "</table>\n",
       "</div>"
      ],
      "text/plain": [
       "            Date         Low        Open    Volume        High       Close  \\\n",
       "5848  19-04-2022  213.139999  217.199997  51278100  223.729996  221.979996   \n",
       "5849  20-04-2022  212.000000  225.169998  46897400  226.699997  214.820007   \n",
       "5850  21-04-2022  200.000000  217.089996  65620900  223.919998  201.830002   \n",
       "5851  22-04-2022  195.000000  203.029999  62356500  204.860001  195.149994   \n",
       "5852  25-04-2022  190.960007  192.020004  53252181  198.460007  194.479996   \n",
       "\n",
       "      Adjusted Close  \n",
       "5848      221.979996  \n",
       "5849      214.820007  \n",
       "5850      201.830002  \n",
       "5851      195.149994  \n",
       "5852      194.479996  "
      ]
     },
     "execution_count": 4,
     "metadata": {},
     "output_type": "execute_result"
    }
   ],
   "source": [
    "ticker_df.tail()"
   ]
  },
  {
   "cell_type": "code",
   "execution_count": 5,
   "id": "9594dc41-9b0d-403f-9bd3-337ad82f6081",
   "metadata": {},
   "outputs": [
    {
     "data": {
      "text/plain": [
       "(5853, 7)"
      ]
     },
     "execution_count": 5,
     "metadata": {},
     "output_type": "execute_result"
    }
   ],
   "source": [
    "ticker_df.shape"
   ]
  },
  {
   "cell_type": "code",
   "execution_count": 6,
   "id": "cfa29173-f011-476d-a2bf-3b79f41b9e2a",
   "metadata": {},
   "outputs": [
    {
     "data": {
      "text/plain": [
       "Index(['Date', 'Low', 'Open', 'Volume', 'High', 'Close', 'Adjusted Close'], dtype='object')"
      ]
     },
     "execution_count": 6,
     "metadata": {},
     "output_type": "execute_result"
    }
   ],
   "source": [
    "ticker_df.columns"
   ]
  },
  {
   "cell_type": "code",
   "execution_count": 7,
   "id": "1dd66fc7-f320-4907-b8c8-0dab805d80bd",
   "metadata": {},
   "outputs": [
    {
     "name": "stdout",
     "output_type": "stream",
     "text": [
      "<class 'pandas.core.frame.DataFrame'>\n",
      "RangeIndex: 5853 entries, 0 to 5852\n",
      "Data columns (total 7 columns):\n",
      " #   Column          Non-Null Count  Dtype  \n",
      "---  ------          --------------  -----  \n",
      " 0   Date            5853 non-null   object \n",
      " 1   Low             5853 non-null   float64\n",
      " 2   Open            5853 non-null   float64\n",
      " 3   Volume          5853 non-null   int64  \n",
      " 4   High            5853 non-null   float64\n",
      " 5   Close           5853 non-null   float64\n",
      " 6   Adjusted Close  5853 non-null   float64\n",
      "dtypes: float64(5), int64(1), object(1)\n",
      "memory usage: 320.2+ KB\n"
     ]
    }
   ],
   "source": [
    "ticker_df.info()"
   ]
  },
  {
   "cell_type": "code",
   "execution_count": 8,
   "id": "598729c0-a634-4af3-a2db-7eefe677ca37",
   "metadata": {},
   "outputs": [
    {
     "data": {
      "text/html": [
       "<div>\n",
       "<style scoped>\n",
       "    .dataframe tbody tr th:only-of-type {\n",
       "        vertical-align: middle;\n",
       "    }\n",
       "\n",
       "    .dataframe tbody tr th {\n",
       "        vertical-align: top;\n",
       "    }\n",
       "\n",
       "    .dataframe thead th {\n",
       "        text-align: right;\n",
       "    }\n",
       "</style>\n",
       "<table border=\"1\" class=\"dataframe\">\n",
       "  <thead>\n",
       "    <tr style=\"text-align: right;\">\n",
       "      <th></th>\n",
       "      <th>Low</th>\n",
       "      <th>Open</th>\n",
       "      <th>Volume</th>\n",
       "      <th>High</th>\n",
       "      <th>Close</th>\n",
       "      <th>Adjusted Close</th>\n",
       "    </tr>\n",
       "  </thead>\n",
       "  <tbody>\n",
       "    <tr>\n",
       "      <th>count</th>\n",
       "      <td>5853.000000</td>\n",
       "      <td>5853.000000</td>\n",
       "      <td>5.853000e+03</td>\n",
       "      <td>5853.000000</td>\n",
       "      <td>5853.000000</td>\n",
       "      <td>5853.000000</td>\n",
       "    </tr>\n",
       "    <tr>\n",
       "      <th>mean</th>\n",
       "      <td>24.494390</td>\n",
       "      <td>24.988110</td>\n",
       "      <td>6.172271e+07</td>\n",
       "      <td>25.435754</td>\n",
       "      <td>24.976619</td>\n",
       "      <td>24.740922</td>\n",
       "    </tr>\n",
       "    <tr>\n",
       "      <th>std</th>\n",
       "      <td>51.379501</td>\n",
       "      <td>52.551047</td>\n",
       "      <td>4.486185e+07</td>\n",
       "      <td>53.560622</td>\n",
       "      <td>52.482870</td>\n",
       "      <td>52.525937</td>\n",
       "    </tr>\n",
       "    <tr>\n",
       "      <th>min</th>\n",
       "      <td>0.333333</td>\n",
       "      <td>0.348958</td>\n",
       "      <td>1.968000e+06</td>\n",
       "      <td>0.355469</td>\n",
       "      <td>0.341146</td>\n",
       "      <td>0.313474</td>\n",
       "    </tr>\n",
       "    <tr>\n",
       "      <th>25%</th>\n",
       "      <td>2.502604</td>\n",
       "      <td>2.582500</td>\n",
       "      <td>3.382080e+07</td>\n",
       "      <td>2.667500</td>\n",
       "      <td>2.591146</td>\n",
       "      <td>2.380965</td>\n",
       "    </tr>\n",
       "    <tr>\n",
       "      <th>50%</th>\n",
       "      <td>3.931667</td>\n",
       "      <td>4.002500</td>\n",
       "      <td>5.160040e+07</td>\n",
       "      <td>4.075000</td>\n",
       "      <td>3.997500</td>\n",
       "      <td>3.715069</td>\n",
       "    </tr>\n",
       "    <tr>\n",
       "      <th>75%</th>\n",
       "      <td>11.800000</td>\n",
       "      <td>11.902500</td>\n",
       "      <td>7.566240e+07</td>\n",
       "      <td>11.982500</td>\n",
       "      <td>11.890000</td>\n",
       "      <td>11.699721</td>\n",
       "    </tr>\n",
       "    <tr>\n",
       "      <th>max</th>\n",
       "      <td>320.359985</td>\n",
       "      <td>335.170013</td>\n",
       "      <td>9.230856e+08</td>\n",
       "      <td>346.470001</td>\n",
       "      <td>333.760010</td>\n",
       "      <td>333.760010</td>\n",
       "    </tr>\n",
       "  </tbody>\n",
       "</table>\n",
       "</div>"
      ],
      "text/plain": [
       "               Low         Open        Volume         High        Close  \\\n",
       "count  5853.000000  5853.000000  5.853000e+03  5853.000000  5853.000000   \n",
       "mean     24.494390    24.988110  6.172271e+07    25.435754    24.976619   \n",
       "std      51.379501    52.551047  4.486185e+07    53.560622    52.482870   \n",
       "min       0.333333     0.348958  1.968000e+06     0.355469     0.341146   \n",
       "25%       2.502604     2.582500  3.382080e+07     2.667500     2.591146   \n",
       "50%       3.931667     4.002500  5.160040e+07     4.075000     3.997500   \n",
       "75%      11.800000    11.902500  7.566240e+07    11.982500    11.890000   \n",
       "max     320.359985   335.170013  9.230856e+08   346.470001   333.760010   \n",
       "\n",
       "       Adjusted Close  \n",
       "count     5853.000000  \n",
       "mean        24.740922  \n",
       "std         52.525937  \n",
       "min          0.313474  \n",
       "25%          2.380965  \n",
       "50%          3.715069  \n",
       "75%         11.699721  \n",
       "max        333.760010  "
      ]
     },
     "execution_count": 8,
     "metadata": {},
     "output_type": "execute_result"
    }
   ],
   "source": [
    "ticker_df.describe()"
   ]
  },
  {
   "cell_type": "markdown",
   "id": "88e2a4e3-3a26-4a0d-8d3a-0956d5831ae1",
   "metadata": {},
   "source": [
    "#### 2.2 News dataset"
   ]
  },
  {
   "cell_type": "code",
   "execution_count": 9,
   "id": "986daf69-8642-4749-835a-f70bc582bf62",
   "metadata": {},
   "outputs": [],
   "source": [
    "news_df = pd.read_csv('../data/news/analyst_ratings_processed.csv', delimiter=\",\")"
   ]
  },
  {
   "cell_type": "code",
   "execution_count": 10,
   "id": "6c6dd5a1-d445-44bc-a1f6-f74a938ad7d5",
   "metadata": {},
   "outputs": [
    {
     "data": {
      "text/html": [
       "<div>\n",
       "<style scoped>\n",
       "    .dataframe tbody tr th:only-of-type {\n",
       "        vertical-align: middle;\n",
       "    }\n",
       "\n",
       "    .dataframe tbody tr th {\n",
       "        vertical-align: top;\n",
       "    }\n",
       "\n",
       "    .dataframe thead th {\n",
       "        text-align: right;\n",
       "    }\n",
       "</style>\n",
       "<table border=\"1\" class=\"dataframe\">\n",
       "  <thead>\n",
       "    <tr style=\"text-align: right;\">\n",
       "      <th></th>\n",
       "      <th>Unnamed: 0</th>\n",
       "      <th>title</th>\n",
       "      <th>date</th>\n",
       "      <th>stock</th>\n",
       "    </tr>\n",
       "  </thead>\n",
       "  <tbody>\n",
       "    <tr>\n",
       "      <th>0</th>\n",
       "      <td>0.0</td>\n",
       "      <td>Stocks That Hit 52-Week Highs On Friday</td>\n",
       "      <td>2020-06-05 10:30:00-04:00</td>\n",
       "      <td>A</td>\n",
       "    </tr>\n",
       "    <tr>\n",
       "      <th>1</th>\n",
       "      <td>1.0</td>\n",
       "      <td>Stocks That Hit 52-Week Highs On Wednesday</td>\n",
       "      <td>2020-06-03 10:45:00-04:00</td>\n",
       "      <td>A</td>\n",
       "    </tr>\n",
       "    <tr>\n",
       "      <th>2</th>\n",
       "      <td>2.0</td>\n",
       "      <td>71 Biggest Movers From Friday</td>\n",
       "      <td>2020-05-26 04:30:00-04:00</td>\n",
       "      <td>A</td>\n",
       "    </tr>\n",
       "    <tr>\n",
       "      <th>3</th>\n",
       "      <td>3.0</td>\n",
       "      <td>46 Stocks Moving In Friday's Mid-Day Session</td>\n",
       "      <td>2020-05-22 12:45:00-04:00</td>\n",
       "      <td>A</td>\n",
       "    </tr>\n",
       "    <tr>\n",
       "      <th>4</th>\n",
       "      <td>4.0</td>\n",
       "      <td>B of A Securities Maintains Neutral on Agilent...</td>\n",
       "      <td>2020-05-22 11:38:00-04:00</td>\n",
       "      <td>A</td>\n",
       "    </tr>\n",
       "  </tbody>\n",
       "</table>\n",
       "</div>"
      ],
      "text/plain": [
       "   Unnamed: 0                                              title  \\\n",
       "0         0.0            Stocks That Hit 52-Week Highs On Friday   \n",
       "1         1.0         Stocks That Hit 52-Week Highs On Wednesday   \n",
       "2         2.0                      71 Biggest Movers From Friday   \n",
       "3         3.0       46 Stocks Moving In Friday's Mid-Day Session   \n",
       "4         4.0  B of A Securities Maintains Neutral on Agilent...   \n",
       "\n",
       "                        date stock  \n",
       "0  2020-06-05 10:30:00-04:00     A  \n",
       "1  2020-06-03 10:45:00-04:00     A  \n",
       "2  2020-05-26 04:30:00-04:00     A  \n",
       "3  2020-05-22 12:45:00-04:00     A  \n",
       "4  2020-05-22 11:38:00-04:00     A  "
      ]
     },
     "execution_count": 10,
     "metadata": {},
     "output_type": "execute_result"
    }
   ],
   "source": [
    "news_df.head()"
   ]
  },
  {
   "cell_type": "code",
   "execution_count": 11,
   "id": "e1cfb57d-91e7-4588-aa41-af3cf6bcb1bf",
   "metadata": {},
   "outputs": [
    {
     "data": {
      "text/html": [
       "<div>\n",
       "<style scoped>\n",
       "    .dataframe tbody tr th:only-of-type {\n",
       "        vertical-align: middle;\n",
       "    }\n",
       "\n",
       "    .dataframe tbody tr th {\n",
       "        vertical-align: top;\n",
       "    }\n",
       "\n",
       "    .dataframe thead th {\n",
       "        text-align: right;\n",
       "    }\n",
       "</style>\n",
       "<table border=\"1\" class=\"dataframe\">\n",
       "  <thead>\n",
       "    <tr style=\"text-align: right;\">\n",
       "      <th></th>\n",
       "      <th>Unnamed: 0</th>\n",
       "      <th>title</th>\n",
       "      <th>date</th>\n",
       "      <th>stock</th>\n",
       "    </tr>\n",
       "  </thead>\n",
       "  <tbody>\n",
       "    <tr>\n",
       "      <th>1400464</th>\n",
       "      <td>1413844.0</td>\n",
       "      <td>Top Narrow Based Indexes For August 29</td>\n",
       "      <td>2011-08-29 10:41:00-04:00</td>\n",
       "      <td>ZX</td>\n",
       "    </tr>\n",
       "    <tr>\n",
       "      <th>1400465</th>\n",
       "      <td>1413845.0</td>\n",
       "      <td>Recap: Wednesday's Top Percentage Gainers and ...</td>\n",
       "      <td>2011-06-22 16:44:00-04:00</td>\n",
       "      <td>ZX</td>\n",
       "    </tr>\n",
       "    <tr>\n",
       "      <th>1400466</th>\n",
       "      <td>1413846.0</td>\n",
       "      <td>UPDATE: Oppenheimer Color on China Zenix Auto ...</td>\n",
       "      <td>2011-06-21 08:26:00-04:00</td>\n",
       "      <td>ZX</td>\n",
       "    </tr>\n",
       "    <tr>\n",
       "      <th>1400467</th>\n",
       "      <td>1413847.0</td>\n",
       "      <td>Oppenheimer Initiates China Zenix At Outperfor...</td>\n",
       "      <td>2011-06-21 05:59:00-04:00</td>\n",
       "      <td>ZX</td>\n",
       "    </tr>\n",
       "    <tr>\n",
       "      <th>1400468</th>\n",
       "      <td>1413848.0</td>\n",
       "      <td>China Zenix Auto International Opens For Tradi...</td>\n",
       "      <td>2011-05-12 09:36:00-04:00</td>\n",
       "      <td>ZX</td>\n",
       "    </tr>\n",
       "  </tbody>\n",
       "</table>\n",
       "</div>"
      ],
      "text/plain": [
       "         Unnamed: 0                                              title  \\\n",
       "1400464   1413844.0             Top Narrow Based Indexes For August 29   \n",
       "1400465   1413845.0  Recap: Wednesday's Top Percentage Gainers and ...   \n",
       "1400466   1413846.0  UPDATE: Oppenheimer Color on China Zenix Auto ...   \n",
       "1400467   1413847.0  Oppenheimer Initiates China Zenix At Outperfor...   \n",
       "1400468   1413848.0  China Zenix Auto International Opens For Tradi...   \n",
       "\n",
       "                              date stock  \n",
       "1400464  2011-08-29 10:41:00-04:00    ZX  \n",
       "1400465  2011-06-22 16:44:00-04:00    ZX  \n",
       "1400466  2011-06-21 08:26:00-04:00    ZX  \n",
       "1400467  2011-06-21 05:59:00-04:00    ZX  \n",
       "1400468  2011-05-12 09:36:00-04:00    ZX  "
      ]
     },
     "execution_count": 11,
     "metadata": {},
     "output_type": "execute_result"
    }
   ],
   "source": [
    "news_df.tail()"
   ]
  },
  {
   "cell_type": "code",
   "execution_count": 12,
   "id": "fa61f910-59bc-4dba-a988-cc399b9490a3",
   "metadata": {},
   "outputs": [
    {
     "data": {
      "text/plain": [
       "(1400469, 4)"
      ]
     },
     "execution_count": 12,
     "metadata": {},
     "output_type": "execute_result"
    }
   ],
   "source": [
    "news_df.shape"
   ]
  },
  {
   "cell_type": "code",
   "execution_count": 13,
   "id": "f52b637c-624f-4ab2-8222-f60421eab944",
   "metadata": {},
   "outputs": [
    {
     "data": {
      "text/plain": [
       "Index(['Unnamed: 0', 'title', 'date', 'stock'], dtype='object')"
      ]
     },
     "execution_count": 13,
     "metadata": {},
     "output_type": "execute_result"
    }
   ],
   "source": [
    "news_df.columns"
   ]
  },
  {
   "cell_type": "code",
   "execution_count": 14,
   "id": "814b85bd-0fc5-4d68-b536-fcaff382401a",
   "metadata": {},
   "outputs": [
    {
     "name": "stdout",
     "output_type": "stream",
     "text": [
      "<class 'pandas.core.frame.DataFrame'>\n",
      "RangeIndex: 1400469 entries, 0 to 1400468\n",
      "Data columns (total 4 columns):\n",
      " #   Column      Non-Null Count    Dtype  \n",
      "---  ------      --------------    -----  \n",
      " 0   Unnamed: 0  1399180 non-null  float64\n",
      " 1   title       1400469 non-null  object \n",
      " 2   date        1399180 non-null  object \n",
      " 3   stock       1397891 non-null  object \n",
      "dtypes: float64(1), object(3)\n",
      "memory usage: 42.7+ MB\n"
     ]
    }
   ],
   "source": [
    "news_df.info()"
   ]
  },
  {
   "cell_type": "code",
   "execution_count": 15,
   "id": "ae28a021-6d85-4316-ac28-6d17efde2e56",
   "metadata": {},
   "outputs": [
    {
     "data": {
      "text/html": [
       "<div>\n",
       "<style scoped>\n",
       "    .dataframe tbody tr th:only-of-type {\n",
       "        vertical-align: middle;\n",
       "    }\n",
       "\n",
       "    .dataframe tbody tr th {\n",
       "        vertical-align: top;\n",
       "    }\n",
       "\n",
       "    .dataframe thead th {\n",
       "        text-align: right;\n",
       "    }\n",
       "</style>\n",
       "<table border=\"1\" class=\"dataframe\">\n",
       "  <thead>\n",
       "    <tr style=\"text-align: right;\">\n",
       "      <th></th>\n",
       "      <th>Unnamed: 0</th>\n",
       "    </tr>\n",
       "  </thead>\n",
       "  <tbody>\n",
       "    <tr>\n",
       "      <th>count</th>\n",
       "      <td>1.399180e+06</td>\n",
       "    </tr>\n",
       "    <tr>\n",
       "      <th>mean</th>\n",
       "      <td>7.095738e+05</td>\n",
       "    </tr>\n",
       "    <tr>\n",
       "      <th>std</th>\n",
       "      <td>4.077075e+05</td>\n",
       "    </tr>\n",
       "    <tr>\n",
       "      <th>min</th>\n",
       "      <td>0.000000e+00</td>\n",
       "    </tr>\n",
       "    <tr>\n",
       "      <th>25%</th>\n",
       "      <td>3.547798e+05</td>\n",
       "    </tr>\n",
       "    <tr>\n",
       "      <th>50%</th>\n",
       "      <td>7.114675e+05</td>\n",
       "    </tr>\n",
       "    <tr>\n",
       "      <th>75%</th>\n",
       "      <td>1.062727e+06</td>\n",
       "    </tr>\n",
       "    <tr>\n",
       "      <th>max</th>\n",
       "      <td>1.413848e+06</td>\n",
       "    </tr>\n",
       "  </tbody>\n",
       "</table>\n",
       "</div>"
      ],
      "text/plain": [
       "         Unnamed: 0\n",
       "count  1.399180e+06\n",
       "mean   7.095738e+05\n",
       "std    4.077075e+05\n",
       "min    0.000000e+00\n",
       "25%    3.547798e+05\n",
       "50%    7.114675e+05\n",
       "75%    1.062727e+06\n",
       "max    1.413848e+06"
      ]
     },
     "execution_count": 15,
     "metadata": {},
     "output_type": "execute_result"
    }
   ],
   "source": [
    "news_df.describe()"
   ]
  },
  {
   "cell_type": "code",
   "execution_count": 16,
   "id": "c7496630-96ec-4887-8bed-946f6da1ef71",
   "metadata": {},
   "outputs": [],
   "source": [
    "news_df['date'] = news_df['date'].str[:10]"
   ]
  },
  {
   "cell_type": "code",
   "execution_count": 17,
   "id": "502c550d-4882-460e-bd3e-6ff8078cd669",
   "metadata": {},
   "outputs": [
    {
     "data": {
      "text/plain": [
       "0          2020-06-05\n",
       "1          2020-06-03\n",
       "2          2020-05-26\n",
       "3          2020-05-22\n",
       "4          2020-05-22\n",
       "              ...    \n",
       "1400464    2011-08-29\n",
       "1400465    2011-06-22\n",
       "1400466    2011-06-21\n",
       "1400467    2011-06-21\n",
       "1400468    2011-05-12\n",
       "Name: date, Length: 1400469, dtype: object"
      ]
     },
     "execution_count": 17,
     "metadata": {},
     "output_type": "execute_result"
    }
   ],
   "source": [
    "news_df['date']"
   ]
  },
  {
   "cell_type": "code",
   "execution_count": 18,
   "id": "5780e4ff-0f6b-4584-81fe-6352c98b57ef",
   "metadata": {},
   "outputs": [
    {
     "data": {
      "image/png": "[encoded data removed]",
      "text/plain": [
       "<Figure size 1080x576 with 1 Axes>"
      ]
     },
     "metadata": {},
     "output_type": "display_data"
    }
   ],
   "source": [
    "news_df['date_time'] = pd.to_datetime(news_df['date'], errors='coerce')\n",
    "news_df = news_df.sort_values(by = 'date_time')\n",
    "news_df['combined'] = news_df['date_time'].dt.month.astype(str).str[:-2].str.zfill(2) + '-' +  news_df['date_time'].dt.year.astype(str).str[:4]\n",
    "\n",
    "\n",
    "sns.set(rc = {'figure.figsize':(15,8)})\n",
    "chart = sns.countplot(x='combined', data=news_df)\n",
    "chart.tick_params(axis = 'x', rotation = 90)"
   ]
  },
  {
   "cell_type": "code",
   "execution_count": 19,
   "id": "7ad8336f-75a0-41ea-a3b1-899b2cc439c4",
   "metadata": {},
   "outputs": [
    {
     "data": {
      "text/plain": [
       "array(['02-2009', '04-2009', '05-2009', '06-2009', '07-2009', '08-2009',\n",
       "       '09-2009', '10-2009', '11-2009', '12-2009', '01-2010', '02-2010',\n",
       "       '03-2010', '04-2010', '05-2010', '06-2010', '07-2010', '08-2010',\n",
       "       '09-2010', '10-2010', '11-2010', '12-2010', '01-2011', '02-2011',\n",
       "       '03-2011', '04-2011', '05-2011', '06-2011', '07-2011', '08-2011',\n",
       "       '09-2011', '10-2011', '11-2011', '12-2011', '01-2012', '02-2012',\n",
       "       '03-2012', '04-2012', '05-2012', '06-2012', '07-2012', '08-2012',\n",
       "       '09-2012', '10-2012', '11-2012', '12-2012', '01-2013', '02-2013',\n",
       "       '03-2013', '04-2013', '05-2013', '06-2013', '07-2013', '08-2013',\n",
       "       '09-2013', '10-2013', '11-2013', '12-2013', '01-2014', '02-2014',\n",
       "       '03-2014', '04-2014', '05-2014', '06-2014', '07-2014', '08-2014',\n",
       "       '09-2014', '10-2014', '11-2014', '12-2014', '01-2015', '02-2015',\n",
       "       '03-2015', '04-2015', '05-2015', '06-2015', '07-2015', '08-2015',\n",
       "       '09-2015', '10-2015', '11-2015', '12-2015', '01-2016', '02-2016',\n",
       "       '03-2016', '04-2016', '05-2016', '06-2016', '07-2016', '08-2016',\n",
       "       '09-2016', '10-2016', '11-2016', '12-2016', '01-2017', '02-2017',\n",
       "       '03-2017', '04-2017', '05-2017', '06-2017', '07-2017', '08-2017',\n",
       "       '09-2017', '10-2017', '11-2017', '12-2017', '01-2018', '02-2018',\n",
       "       '03-2018', '04-2018', '05-2018', '06-2018', '07-2018', '08-2018',\n",
       "       '09-2018', '10-2018', '11-2018', '12-2018', '01-2019', '02-2019',\n",
       "       '03-2019', '04-2019', '05-2019', '06-2019', '07-2019', '08-2019',\n",
       "       '09-2019', '10-2019', '11-2019', '12-2019', '01-2020', '02-2020',\n",
       "       '03-2020', '04-2020', '05-2020', '06-2020', '0n-nan'], dtype=object)"
      ]
     },
     "execution_count": 19,
     "metadata": {},
     "output_type": "execute_result"
    }
   ],
   "source": [
    "news_df['combined'].unique()"
   ]
  },
  {
   "cell_type": "code",
   "execution_count": 36,
   "id": "5021409b-1d57-493c-9720-19e1be50dc05",
   "metadata": {},
   "outputs": [],
   "source": [
    "news_df = news_df[~(news_df['date_time'] < '2010-06-01')]"
   ]
  },
  {
   "cell_type": "code",
   "execution_count": 37,
   "id": "ecf85780-6457-4b14-b8f6-6e3cb7de725f",
   "metadata": {},
   "outputs": [
    {
     "data": {
      "text/plain": [
       "array(['06-2010', '07-2010', '08-2010', '09-2010', '10-2010', '11-2010',\n",
       "       '12-2010', '01-2011', '02-2011', '03-2011', '04-2011', '05-2011',\n",
       "       '06-2011', '07-2011', '08-2011', '09-2011', '10-2011', '11-2011',\n",
       "       '12-2011', '01-2012', '02-2012', '03-2012', '04-2012', '05-2012',\n",
       "       '06-2012', '07-2012', '08-2012', '09-2012', '10-2012', '11-2012',\n",
       "       '12-2012', '01-2013', '02-2013', '03-2013', '04-2013', '05-2013',\n",
       "       '06-2013', '07-2013', '08-2013', '09-2013', '10-2013', '11-2013',\n",
       "       '12-2013', '01-2014', '02-2014', '03-2014', '04-2014', '05-2014',\n",
       "       '06-2014', '07-2014', '08-2014', '09-2014', '10-2014', '11-2014',\n",
       "       '12-2014', '01-2015', '02-2015', '03-2015', '04-2015', '05-2015',\n",
       "       '06-2015', '07-2015', '08-2015', '09-2015', '10-2015', '11-2015',\n",
       "       '12-2015', '01-2016', '02-2016', '03-2016', '04-2016', '05-2016',\n",
       "       '06-2016', '07-2016', '08-2016', '09-2016', '10-2016', '11-2016',\n",
       "       '12-2016', '01-2017', '02-2017', '03-2017', '04-2017', '05-2017',\n",
       "       '06-2017', '07-2017', '08-2017', '09-2017', '10-2017', '11-2017',\n",
       "       '12-2017', '01-2018', '02-2018', '03-2018', '04-2018', '05-2018',\n",
       "       '06-2018', '07-2018', '08-2018', '09-2018', '10-2018', '11-2018',\n",
       "       '12-2018', '01-2019', '02-2019', '03-2019', '04-2019', '05-2019',\n",
       "       '06-2019', '07-2019', '08-2019', '09-2019', '10-2019', '11-2019',\n",
       "       '12-2019', '01-2020', '02-2020', '03-2020', '04-2020', '05-2020',\n",
       "       '06-2020', '0n-nan'], dtype=object)"
      ]
     },
     "execution_count": 37,
     "metadata": {},
     "output_type": "execute_result"
    }
   ],
   "source": [
    "news_df['combined'].unique()"
   ]
  },
  {
   "cell_type": "code",
   "execution_count": 38,
   "id": "270fa7c1-443a-40ba-8e5a-d05ab6aef34d",
   "metadata": {},
   "outputs": [
    {
     "data": {
      "text/plain": [
       "Unnamed: 0    1289\n",
       "title            0\n",
       "date          1289\n",
       "stock         2578\n",
       "date_time     2578\n",
       "combined         0\n",
       "dtype: int64"
      ]
     },
     "execution_count": 38,
     "metadata": {},
     "output_type": "execute_result"
    }
   ],
   "source": [
    "news_df.isnull().sum()"
   ]
  },
  {
   "cell_type": "code",
   "execution_count": 39,
   "id": "6662f004-f138-4981-81fb-69afadb38873",
   "metadata": {},
   "outputs": [
    {
     "data": {
      "text/html": [
       "<div>\n",
       "<style scoped>\n",
       "    .dataframe tbody tr th:only-of-type {\n",
       "        vertical-align: middle;\n",
       "    }\n",
       "\n",
       "    .dataframe tbody tr th {\n",
       "        vertical-align: top;\n",
       "    }\n",
       "\n",
       "    .dataframe thead th {\n",
       "        text-align: right;\n",
       "    }\n",
       "</style>\n",
       "<table border=\"1\" class=\"dataframe\">\n",
       "  <thead>\n",
       "    <tr style=\"text-align: right;\">\n",
       "      <th></th>\n",
       "      <th>title</th>\n",
       "      <th>date</th>\n",
       "      <th>stock</th>\n",
       "      <th>date_time</th>\n",
       "      <th>combined</th>\n",
       "    </tr>\n",
       "  </thead>\n",
       "  <tbody>\n",
       "    <tr>\n",
       "      <th>913404</th>\n",
       "      <td>State Street May Win From Finance Overhaul</td>\n",
       "      <td>2010-06-01</td>\n",
       "      <td>NTRS</td>\n",
       "      <td>2010-06-01</td>\n",
       "      <td>06-2010</td>\n",
       "    </tr>\n",
       "    <tr>\n",
       "      <th>1113055</th>\n",
       "      <td>Stancorp Financial Presents Strong Performance...</td>\n",
       "      <td>2010-06-01</td>\n",
       "      <td>SFG</td>\n",
       "      <td>2010-06-01</td>\n",
       "      <td>06-2010</td>\n",
       "    </tr>\n",
       "    <tr>\n",
       "      <th>82264</th>\n",
       "      <td>Panic In The Drilling Stocks</td>\n",
       "      <td>2010-06-01</td>\n",
       "      <td>APC</td>\n",
       "      <td>2010-06-01</td>\n",
       "      <td>06-2010</td>\n",
       "    </tr>\n",
       "    <tr>\n",
       "      <th>48054</th>\n",
       "      <td>A Look Under The Hood: PowerShares Private Equ...</td>\n",
       "      <td>2010-06-01</td>\n",
       "      <td>AINV</td>\n",
       "      <td>2010-06-01</td>\n",
       "      <td>06-2010</td>\n",
       "    </tr>\n",
       "    <tr>\n",
       "      <th>1273754</th>\n",
       "      <td>Puts Sold on UBS</td>\n",
       "      <td>2010-06-01</td>\n",
       "      <td>UBS</td>\n",
       "      <td>2010-06-01</td>\n",
       "      <td>06-2010</td>\n",
       "    </tr>\n",
       "  </tbody>\n",
       "</table>\n",
       "</div>"
      ],
      "text/plain": [
       "                                                     title        date stock  \\\n",
       "913404          State Street May Win From Finance Overhaul  2010-06-01  NTRS   \n",
       "1113055  Stancorp Financial Presents Strong Performance...  2010-06-01   SFG   \n",
       "82264                         Panic In The Drilling Stocks  2010-06-01   APC   \n",
       "48054    A Look Under The Hood: PowerShares Private Equ...  2010-06-01  AINV   \n",
       "1273754                                   Puts Sold on UBS  2010-06-01   UBS   \n",
       "\n",
       "         date_time combined  \n",
       "913404  2010-06-01  06-2010  \n",
       "1113055 2010-06-01  06-2010  \n",
       "82264   2010-06-01  06-2010  \n",
       "48054   2010-06-01  06-2010  \n",
       "1273754 2010-06-01  06-2010  "
      ]
     },
     "execution_count": 39,
     "metadata": {},
     "output_type": "execute_result"
    }
   ],
   "source": [
    "# Removing Unnamed column (index)\n",
    "news_df = news_df.iloc[:,1:]\n",
    "news_df.head()"
   ]
  },
  {
   "cell_type": "code",
   "execution_count": 108,
   "id": "910475d2-c5c2-4500-8706-e8a6b2c38b02",
   "metadata": {},
   "outputs": [],
   "source": [
    "news_df.dropna(inplace=True)"
   ]
  },
  {
   "cell_type": "code",
   "execution_count": 109,
   "id": "1d8e981c-fab3-4374-9a8e-6f07af22660a",
   "metadata": {},
   "outputs": [
    {
     "data": {
      "text/plain": [
       "title    0\n",
       "date     0\n",
       "stock    0\n",
       "dtype: int64"
      ]
     },
     "execution_count": 109,
     "metadata": {},
     "output_type": "execute_result"
    }
   ],
   "source": [
    "news_df.isnull().sum()"
   ]
  },
  {
   "cell_type": "code",
   "execution_count": 85,
   "id": "10cd4d58-cf35-4233-ac3c-b9e8bfe63f39",
   "metadata": {},
   "outputs": [
    {
     "data": {
      "text/html": [
       "<div>\n",
       "<style scoped>\n",
       "    .dataframe tbody tr th:only-of-type {\n",
       "        vertical-align: middle;\n",
       "    }\n",
       "\n",
       "    .dataframe tbody tr th {\n",
       "        vertical-align: top;\n",
       "    }\n",
       "\n",
       "    .dataframe thead th {\n",
       "        text-align: right;\n",
       "    }\n",
       "</style>\n",
       "<table border=\"1\" class=\"dataframe\">\n",
       "  <thead>\n",
       "    <tr style=\"text-align: right;\">\n",
       "      <th></th>\n",
       "      <th>Unnamed: 0</th>\n",
       "      <th>title</th>\n",
       "      <th>date</th>\n",
       "      <th>stock</th>\n",
       "      <th>date_time</th>\n",
       "      <th>combined</th>\n",
       "    </tr>\n",
       "  </thead>\n",
       "  <tbody>\n",
       "    <tr>\n",
       "      <th>920236</th>\n",
       "      <td>932188.0</td>\n",
       "      <td>Nvidia Goes Negative (NVDA)</td>\n",
       "      <td>2011-03-03</td>\n",
       "      <td>NVDA</td>\n",
       "      <td>2011-03-03</td>\n",
       "      <td>03-2011</td>\n",
       "    </tr>\n",
       "    <tr>\n",
       "      <th>920234</th>\n",
       "      <td>932186.0</td>\n",
       "      <td>Goldman Sachs Gives Color On Semiconductors (N...</td>\n",
       "      <td>2011-03-07</td>\n",
       "      <td>NVDA</td>\n",
       "      <td>2011-03-07</td>\n",
       "      <td>03-2011</td>\n",
       "    </tr>\n",
       "    <tr>\n",
       "      <th>920235</th>\n",
       "      <td>932187.0</td>\n",
       "      <td>Auriga Still Not Sure Where Reality Lies For N...</td>\n",
       "      <td>2011-03-07</td>\n",
       "      <td>NVDA</td>\n",
       "      <td>2011-03-07</td>\n",
       "      <td>03-2011</td>\n",
       "    </tr>\n",
       "    <tr>\n",
       "      <th>920230</th>\n",
       "      <td>932182.0</td>\n",
       "      <td>JPM Says \"Our Bearish View on the Company's Ex...</td>\n",
       "      <td>2011-03-08</td>\n",
       "      <td>NVDA</td>\n",
       "      <td>2011-03-08</td>\n",
       "      <td>03-2011</td>\n",
       "    </tr>\n",
       "    <tr>\n",
       "      <th>920231</th>\n",
       "      <td>932183.0</td>\n",
       "      <td>Benzinga's Top Upgrades (NVDA, ANF, MIPS, WFT)</td>\n",
       "      <td>2011-03-08</td>\n",
       "      <td>NVDA</td>\n",
       "      <td>2011-03-08</td>\n",
       "      <td>03-2011</td>\n",
       "    </tr>\n",
       "    <tr>\n",
       "      <th>...</th>\n",
       "      <td>...</td>\n",
       "      <td>...</td>\n",
       "      <td>...</td>\n",
       "      <td>...</td>\n",
       "      <td>...</td>\n",
       "      <td>...</td>\n",
       "    </tr>\n",
       "    <tr>\n",
       "      <th>917104</th>\n",
       "      <td>929045.0</td>\n",
       "      <td>Morning Market Stats in 5 Minutes</td>\n",
       "      <td>2020-06-08</td>\n",
       "      <td>NVDA</td>\n",
       "      <td>2020-06-08</td>\n",
       "      <td>06-2020</td>\n",
       "    </tr>\n",
       "    <tr>\n",
       "      <th>917101</th>\n",
       "      <td>929042.0</td>\n",
       "      <td>Shares of several technology companies are tra...</td>\n",
       "      <td>2020-06-09</td>\n",
       "      <td>NVDA</td>\n",
       "      <td>2020-06-09</td>\n",
       "      <td>06-2020</td>\n",
       "    </tr>\n",
       "    <tr>\n",
       "      <th>917098</th>\n",
       "      <td>929039.0</td>\n",
       "      <td>Shares of several technology companies are tra...</td>\n",
       "      <td>2020-06-10</td>\n",
       "      <td>NVDA</td>\n",
       "      <td>2020-06-10</td>\n",
       "      <td>06-2020</td>\n",
       "    </tr>\n",
       "    <tr>\n",
       "      <th>917099</th>\n",
       "      <td>929040.0</td>\n",
       "      <td>Afternoon Market Stats in 5 Minutes</td>\n",
       "      <td>2020-06-10</td>\n",
       "      <td>NVDA</td>\n",
       "      <td>2020-06-10</td>\n",
       "      <td>06-2020</td>\n",
       "    </tr>\n",
       "    <tr>\n",
       "      <th>917100</th>\n",
       "      <td>929041.0</td>\n",
       "      <td>Morning Market Stats in 5 Minutes</td>\n",
       "      <td>2020-06-10</td>\n",
       "      <td>NVDA</td>\n",
       "      <td>2020-06-10</td>\n",
       "      <td>06-2020</td>\n",
       "    </tr>\n",
       "  </tbody>\n",
       "</table>\n",
       "<p>3133 rows × 6 columns</p>\n",
       "</div>"
      ],
      "text/plain": [
       "        Unnamed: 0                                              title  \\\n",
       "920236    932188.0                        Nvidia Goes Negative (NVDA)   \n",
       "920234    932186.0  Goldman Sachs Gives Color On Semiconductors (N...   \n",
       "920235    932187.0  Auriga Still Not Sure Where Reality Lies For N...   \n",
       "920230    932182.0  JPM Says \"Our Bearish View on the Company's Ex...   \n",
       "920231    932183.0     Benzinga's Top Upgrades (NVDA, ANF, MIPS, WFT)   \n",
       "...            ...                                                ...   \n",
       "917104    929045.0                  Morning Market Stats in 5 Minutes   \n",
       "917101    929042.0  Shares of several technology companies are tra...   \n",
       "917098    929039.0  Shares of several technology companies are tra...   \n",
       "917099    929040.0                Afternoon Market Stats in 5 Minutes   \n",
       "917100    929041.0                  Morning Market Stats in 5 Minutes   \n",
       "\n",
       "              date stock  date_time combined  \n",
       "920236  2011-03-03  NVDA 2011-03-03  03-2011  \n",
       "920234  2011-03-07  NVDA 2011-03-07  03-2011  \n",
       "920235  2011-03-07  NVDA 2011-03-07  03-2011  \n",
       "920230  2011-03-08  NVDA 2011-03-08  03-2011  \n",
       "920231  2011-03-08  NVDA 2011-03-08  03-2011  \n",
       "...            ...   ...        ...      ...  \n",
       "917104  2020-06-08  NVDA 2020-06-08  06-2020  \n",
       "917101  2020-06-09  NVDA 2020-06-09  06-2020  \n",
       "917098  2020-06-10  NVDA 2020-06-10  06-2020  \n",
       "917099  2020-06-10  NVDA 2020-06-10  06-2020  \n",
       "917100  2020-06-10  NVDA 2020-06-10  06-2020  \n",
       "\n",
       "[3133 rows x 6 columns]"
      ]
     },
     "execution_count": 85,
     "metadata": {},
     "output_type": "execute_result"
    }
   ],
   "source": [
    "# Searching for news regarding nvidia\n",
    "nvidia = news_df.loc[news_df['stock'] == 'NVDA']\n",
    "nvidia"
   ]
  },
  {
   "cell_type": "code",
   "execution_count": 86,
   "id": "59805dcf-6398-4fa8-a74f-8ea449607cdc",
   "metadata": {},
   "outputs": [
    {
     "name": "stdout",
     "output_type": "stream",
     "text": [
      "<class 'pandas.core.frame.DataFrame'>\n",
      "Int64Index: 3133 entries, 920236 to 917100\n",
      "Data columns (total 6 columns):\n",
      " #   Column      Non-Null Count  Dtype         \n",
      "---  ------      --------------  -----         \n",
      " 0   Unnamed: 0  3133 non-null   float64       \n",
      " 1   title       3133 non-null   object        \n",
      " 2   date        3133 non-null   object        \n",
      " 3   stock       3133 non-null   object        \n",
      " 4   date_time   3133 non-null   datetime64[ns]\n",
      " 5   combined    3133 non-null   object        \n",
      "dtypes: datetime64[ns](1), float64(1), object(4)\n",
      "memory usage: 171.3+ KB\n"
     ]
    }
   ],
   "source": [
    "nvidia.info()"
   ]
  },
  {
   "cell_type": "code",
   "execution_count": null,
   "id": "a8c8a30d-f343-4b5c-90b8-acc92ec21cd7",
   "metadata": {},
   "outputs": [],
   "source": []
  },
  {
   "cell_type": "markdown",
   "id": "1d0606e8-d7f4-4076-84a9-6d6efa3cf97f",
   "metadata": {},
   "source": [
    "## 2.3 Combining dataset"
   ]
  },
  {
   "cell_type": "code",
   "execution_count": null,
   "id": "e9822979-4013-4aab-978c-4d450cdb3509",
   "metadata": {},
   "outputs": [],
   "source": []
  },
  {
   "cell_type": "code",
   "execution_count": null,
   "id": "51a8393c-b003-4b66-abfe-550761c2ba17",
   "metadata": {},
   "outputs": [],
   "source": []
  },
  {
   "cell_type": "code",
   "execution_count": null,
   "id": "8636147a-46a9-4373-9f08-c8800da2a924",
   "metadata": {},
   "outputs": [],
   "source": []
  },
  {
   "cell_type": "code",
   "execution_count": null,
   "id": "922ef856-06bf-4d4c-ad85-512bd86c5781",
   "metadata": {},
   "outputs": [],
   "source": [
    "## Visualizing dataset"
   ]
  }
 ],
 "metadata": {
  "kernelspec": {
   "display_name": "Python 3 (ipykernel)",
   "language": "python",
   "name": "python3"
  },
  "language_info": {
   "codemirror_mode": {
    "name": "ipython",
    "version": 3
   },
   "file_extension": ".py",
   "mimetype": "text/x-python",
   "name": "python",
   "nbconvert_exporter": "python",
   "pygments_lexer": "ipython3",
   "version": "3.9.7"
  }
 },
 "nbformat": 4,
 "nbformat_minor": 5
}
