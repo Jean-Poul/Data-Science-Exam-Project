{
 "cells": [
  {
   "cell_type": "markdown",
   "id": "9befe0f9-d6d0-43f6-88a6-71de1cdffd9c",
   "metadata": {
    "tags": []
   },
   "source": [
    "#  Data Science - Exam Project\n",
    "\n",
    "## The Medias Influence On The Stock Market\n",
    "\n",
    "\n",
    "### Group Members\n",
    "- Allan Simonsen cph-as484@cphbusiness.dk\n",
    "- Jean-Poul Leth-Møller cph-jl360@cphbusiness.dk\n",
    "- Nina Lisakowski cph-nl163@cphbusiness.dk\n"
   ]
  },
  {
   "cell_type": "markdown",
   "id": "1bcdd659-1b40-42a8-998e-d6eb56112d22",
   "metadata": {},
   "source": [
    "## 1. Environment Setup"
   ]
  },
  {
   "cell_type": "code",
   "execution_count": 4,
   "id": "99ae392e-0ad5-49c2-8a94-e93b9381032d",
   "metadata": {},
   "outputs": [],
   "source": [
    "# Pandas -used for structuring data\n",
    "import pandas as pd\n",
    "\n",
    "# numpy - Multi dimensional datastructure tool\n",
    "import numpy as np\n",
    "\n",
    "# Seaborn & matplotlib - used for plotting\n",
    "import seaborn as sns\n",
    "import matplotlib.pyplot as plt"
   ]
  },
  {
   "cell_type": "markdown",
   "id": "b74b4882-8393-48ec-8ab1-077bb48847ea",
   "metadata": {},
   "source": [
    "## 2. Import and cleaning of data\n",
    "This project contains 2 datasets.  \n",
    "- **Ticker dataset**  \n",
    "This dataset contains information about a specific stock. logging every day its opening price,closing price and volume.  \n",
    "[Link to dataset](https://www.kaggle.com/datasets/paultimothymooney/stock-market-data)  \n",
    "\n",
    "- **News media dataset**  \n",
    "This dataset contains multiple thousands of headlines spaning over a decade. Row consist of headline, date of article and ticker(the stock that is related)\n",
    "[Link to dataset](https://www.kaggle.com/datasets/miguelaenlle/massive-stock-news-analysis-db-for-nlpbacktests)"
   ]
  },
  {
   "cell_type": "markdown",
   "id": "91a17976-a946-4144-b857-492c3d9f685a",
   "metadata": {},
   "source": [
    "### 2.1 Ticker dataset"
   ]
  },
  {
   "cell_type": "code",
   "execution_count": 2,
   "id": "82bb8fbb-400e-412d-a59a-cebaab2926ed",
   "metadata": {},
   "outputs": [],
   "source": [
    "ticker_df = pd.read_csv('../data/stock_market_data/nasdaq/csv/NVDA.csv', delimiter=\",\")"
   ]
  },
  {
   "cell_type": "code",
   "execution_count": 3,
   "id": "8ce42c81-a7b0-4f79-9aad-0467ab751b04",
   "metadata": {},
   "outputs": [
    {
     "data": {
      "text/html": [
       "<div>\n",
       "<style scoped>\n",
       "    .dataframe tbody tr th:only-of-type {\n",
       "        vertical-align: middle;\n",
       "    }\n",
       "\n",
       "    .dataframe tbody tr th {\n",
       "        vertical-align: top;\n",
       "    }\n",
       "\n",
       "    .dataframe thead th {\n",
       "        text-align: right;\n",
       "    }\n",
       "</style>\n",
       "<table border=\"1\" class=\"dataframe\">\n",
       "  <thead>\n",
       "    <tr style=\"text-align: right;\">\n",
       "      <th></th>\n",
       "      <th>Date</th>\n",
       "      <th>Low</th>\n",
       "      <th>Open</th>\n",
       "      <th>Volume</th>\n",
       "      <th>High</th>\n",
       "      <th>Close</th>\n",
       "      <th>Adjusted Close</th>\n",
       "    </tr>\n",
       "  </thead>\n",
       "  <tbody>\n",
       "    <tr>\n",
       "      <th>0</th>\n",
       "      <td>22-01-1999</td>\n",
       "      <td>0.388021</td>\n",
       "      <td>0.437500</td>\n",
       "      <td>271468800</td>\n",
       "      <td>0.488281</td>\n",
       "      <td>0.410156</td>\n",
       "      <td>0.376886</td>\n",
       "    </tr>\n",
       "    <tr>\n",
       "      <th>1</th>\n",
       "      <td>25-01-1999</td>\n",
       "      <td>0.410156</td>\n",
       "      <td>0.442708</td>\n",
       "      <td>51048000</td>\n",
       "      <td>0.458333</td>\n",
       "      <td>0.453125</td>\n",
       "      <td>0.416370</td>\n",
       "    </tr>\n",
       "    <tr>\n",
       "      <th>2</th>\n",
       "      <td>26-01-1999</td>\n",
       "      <td>0.411458</td>\n",
       "      <td>0.458333</td>\n",
       "      <td>34320000</td>\n",
       "      <td>0.467448</td>\n",
       "      <td>0.417969</td>\n",
       "      <td>0.384065</td>\n",
       "    </tr>\n",
       "    <tr>\n",
       "      <th>3</th>\n",
       "      <td>27-01-1999</td>\n",
       "      <td>0.395833</td>\n",
       "      <td>0.419271</td>\n",
       "      <td>24436800</td>\n",
       "      <td>0.429688</td>\n",
       "      <td>0.416667</td>\n",
       "      <td>0.382869</td>\n",
       "    </tr>\n",
       "    <tr>\n",
       "      <th>4</th>\n",
       "      <td>28-01-1999</td>\n",
       "      <td>0.412760</td>\n",
       "      <td>0.416667</td>\n",
       "      <td>22752000</td>\n",
       "      <td>0.419271</td>\n",
       "      <td>0.415365</td>\n",
       "      <td>0.381673</td>\n",
       "    </tr>\n",
       "  </tbody>\n",
       "</table>\n",
       "</div>"
      ],
      "text/plain": [
       "         Date       Low      Open     Volume      High     Close  \\\n",
       "0  22-01-1999  0.388021  0.437500  271468800  0.488281  0.410156   \n",
       "1  25-01-1999  0.410156  0.442708   51048000  0.458333  0.453125   \n",
       "2  26-01-1999  0.411458  0.458333   34320000  0.467448  0.417969   \n",
       "3  27-01-1999  0.395833  0.419271   24436800  0.429688  0.416667   \n",
       "4  28-01-1999  0.412760  0.416667   22752000  0.419271  0.415365   \n",
       "\n",
       "   Adjusted Close  \n",
       "0        0.376886  \n",
       "1        0.416370  \n",
       "2        0.384065  \n",
       "3        0.382869  \n",
       "4        0.381673  "
      ]
     },
     "execution_count": 3,
     "metadata": {},
     "output_type": "execute_result"
    }
   ],
   "source": [
    "ticker_df.head()"
   ]
  },
  {
   "cell_type": "code",
   "execution_count": 4,
   "id": "f6c7cb9d-3d45-4108-bc03-7085f47ed634",
   "metadata": {},
   "outputs": [
    {
     "data": {
      "text/html": [
       "<div>\n",
       "<style scoped>\n",
       "    .dataframe tbody tr th:only-of-type {\n",
       "        vertical-align: middle;\n",
       "    }\n",
       "\n",
       "    .dataframe tbody tr th {\n",
       "        vertical-align: top;\n",
       "    }\n",
       "\n",
       "    .dataframe thead th {\n",
       "        text-align: right;\n",
       "    }\n",
       "</style>\n",
       "<table border=\"1\" class=\"dataframe\">\n",
       "  <thead>\n",
       "    <tr style=\"text-align: right;\">\n",
       "      <th></th>\n",
       "      <th>Date</th>\n",
       "      <th>Low</th>\n",
       "      <th>Open</th>\n",
       "      <th>Volume</th>\n",
       "      <th>High</th>\n",
       "      <th>Close</th>\n",
       "      <th>Adjusted Close</th>\n",
       "    </tr>\n",
       "  </thead>\n",
       "  <tbody>\n",
       "    <tr>\n",
       "      <th>5848</th>\n",
       "      <td>19-04-2022</td>\n",
       "      <td>213.139999</td>\n",
       "      <td>217.199997</td>\n",
       "      <td>51278100</td>\n",
       "      <td>223.729996</td>\n",
       "      <td>221.979996</td>\n",
       "      <td>221.979996</td>\n",
       "    </tr>\n",
       "    <tr>\n",
       "      <th>5849</th>\n",
       "      <td>20-04-2022</td>\n",
       "      <td>212.000000</td>\n",
       "      <td>225.169998</td>\n",
       "      <td>46897400</td>\n",
       "      <td>226.699997</td>\n",
       "      <td>214.820007</td>\n",
       "      <td>214.820007</td>\n",
       "    </tr>\n",
       "    <tr>\n",
       "      <th>5850</th>\n",
       "      <td>21-04-2022</td>\n",
       "      <td>200.000000</td>\n",
       "      <td>217.089996</td>\n",
       "      <td>65620900</td>\n",
       "      <td>223.919998</td>\n",
       "      <td>201.830002</td>\n",
       "      <td>201.830002</td>\n",
       "    </tr>\n",
       "    <tr>\n",
       "      <th>5851</th>\n",
       "      <td>22-04-2022</td>\n",
       "      <td>195.000000</td>\n",
       "      <td>203.029999</td>\n",
       "      <td>62356500</td>\n",
       "      <td>204.860001</td>\n",
       "      <td>195.149994</td>\n",
       "      <td>195.149994</td>\n",
       "    </tr>\n",
       "    <tr>\n",
       "      <th>5852</th>\n",
       "      <td>25-04-2022</td>\n",
       "      <td>190.960007</td>\n",
       "      <td>192.020004</td>\n",
       "      <td>53252181</td>\n",
       "      <td>198.460007</td>\n",
       "      <td>194.479996</td>\n",
       "      <td>194.479996</td>\n",
       "    </tr>\n",
       "  </tbody>\n",
       "</table>\n",
       "</div>"
      ],
      "text/plain": [
       "            Date         Low        Open    Volume        High       Close  \\\n",
       "5848  19-04-2022  213.139999  217.199997  51278100  223.729996  221.979996   \n",
       "5849  20-04-2022  212.000000  225.169998  46897400  226.699997  214.820007   \n",
       "5850  21-04-2022  200.000000  217.089996  65620900  223.919998  201.830002   \n",
       "5851  22-04-2022  195.000000  203.029999  62356500  204.860001  195.149994   \n",
       "5852  25-04-2022  190.960007  192.020004  53252181  198.460007  194.479996   \n",
       "\n",
       "      Adjusted Close  \n",
       "5848      221.979996  \n",
       "5849      214.820007  \n",
       "5850      201.830002  \n",
       "5851      195.149994  \n",
       "5852      194.479996  "
      ]
     },
     "execution_count": 4,
     "metadata": {},
     "output_type": "execute_result"
    }
   ],
   "source": [
    "ticker_df.tail()"
   ]
  },
  {
   "cell_type": "markdown",
   "id": "7dc7b988",
   "metadata": {},
   "source": [
    "#### 2.1.1 describing dataset"
   ]
  },
  {
   "cell_type": "code",
   "execution_count": 5,
   "id": "9594dc41-9b0d-403f-9bd3-337ad82f6081",
   "metadata": {},
   "outputs": [
    {
     "data": {
      "text/plain": [
       "(5853, 7)"
      ]
     },
     "execution_count": 5,
     "metadata": {},
     "output_type": "execute_result"
    }
   ],
   "source": [
    "ticker_df.shape"
   ]
  },
  {
   "cell_type": "code",
   "execution_count": 6,
   "id": "cfa29173-f011-476d-a2bf-3b79f41b9e2a",
   "metadata": {},
   "outputs": [
    {
     "data": {
      "text/plain": [
       "Index(['Date', 'Low', 'Open', 'Volume', 'High', 'Close', 'Adjusted Close'], dtype='object')"
      ]
     },
     "execution_count": 6,
     "metadata": {},
     "output_type": "execute_result"
    }
   ],
   "source": [
    "ticker_df.columns"
   ]
  },
  {
   "cell_type": "code",
   "execution_count": 7,
   "id": "1dd66fc7-f320-4907-b8c8-0dab805d80bd",
   "metadata": {},
   "outputs": [
    {
     "name": "stdout",
     "output_type": "stream",
     "text": [
      "<class 'pandas.core.frame.DataFrame'>\n",
      "RangeIndex: 5853 entries, 0 to 5852\n",
      "Data columns (total 7 columns):\n",
      " #   Column          Non-Null Count  Dtype  \n",
      "---  ------          --------------  -----  \n",
      " 0   Date            5853 non-null   object \n",
      " 1   Low             5853 non-null   float64\n",
      " 2   Open            5853 non-null   float64\n",
      " 3   Volume          5853 non-null   int64  \n",
      " 4   High            5853 non-null   float64\n",
      " 5   Close           5853 non-null   float64\n",
      " 6   Adjusted Close  5853 non-null   float64\n",
      "dtypes: float64(5), int64(1), object(1)\n",
      "memory usage: 320.2+ KB\n"
     ]
    }
   ],
   "source": [
    "ticker_df.info()"
   ]
  },
  {
   "cell_type": "code",
   "execution_count": 8,
   "id": "598729c0-a634-4af3-a2db-7eefe677ca37",
   "metadata": {},
   "outputs": [
    {
     "data": {
      "text/html": [
       "<div>\n",
       "<style scoped>\n",
       "    .dataframe tbody tr th:only-of-type {\n",
       "        vertical-align: middle;\n",
       "    }\n",
       "\n",
       "    .dataframe tbody tr th {\n",
       "        vertical-align: top;\n",
       "    }\n",
       "\n",
       "    .dataframe thead th {\n",
       "        text-align: right;\n",
       "    }\n",
       "</style>\n",
       "<table border=\"1\" class=\"dataframe\">\n",
       "  <thead>\n",
       "    <tr style=\"text-align: right;\">\n",
       "      <th></th>\n",
       "      <th>Low</th>\n",
       "      <th>Open</th>\n",
       "      <th>Volume</th>\n",
       "      <th>High</th>\n",
       "      <th>Close</th>\n",
       "      <th>Adjusted Close</th>\n",
       "    </tr>\n",
       "  </thead>\n",
       "  <tbody>\n",
       "    <tr>\n",
       "      <th>count</th>\n",
       "      <td>5853.000000</td>\n",
       "      <td>5853.000000</td>\n",
       "      <td>5.853000e+03</td>\n",
       "      <td>5853.000000</td>\n",
       "      <td>5853.000000</td>\n",
       "      <td>5853.000000</td>\n",
       "    </tr>\n",
       "    <tr>\n",
       "      <th>mean</th>\n",
       "      <td>24.494390</td>\n",
       "      <td>24.988110</td>\n",
       "      <td>6.172271e+07</td>\n",
       "      <td>25.435754</td>\n",
       "      <td>24.976619</td>\n",
       "      <td>24.740922</td>\n",
       "    </tr>\n",
       "    <tr>\n",
       "      <th>std</th>\n",
       "      <td>51.379501</td>\n",
       "      <td>52.551047</td>\n",
       "      <td>4.486185e+07</td>\n",
       "      <td>53.560622</td>\n",
       "      <td>52.482870</td>\n",
       "      <td>52.525937</td>\n",
       "    </tr>\n",
       "    <tr>\n",
       "      <th>min</th>\n",
       "      <td>0.333333</td>\n",
       "      <td>0.348958</td>\n",
       "      <td>1.968000e+06</td>\n",
       "      <td>0.355469</td>\n",
       "      <td>0.341146</td>\n",
       "      <td>0.313474</td>\n",
       "    </tr>\n",
       "    <tr>\n",
       "      <th>25%</th>\n",
       "      <td>2.502604</td>\n",
       "      <td>2.582500</td>\n",
       "      <td>3.382080e+07</td>\n",
       "      <td>2.667500</td>\n",
       "      <td>2.591146</td>\n",
       "      <td>2.380965</td>\n",
       "    </tr>\n",
       "    <tr>\n",
       "      <th>50%</th>\n",
       "      <td>3.931667</td>\n",
       "      <td>4.002500</td>\n",
       "      <td>5.160040e+07</td>\n",
       "      <td>4.075000</td>\n",
       "      <td>3.997500</td>\n",
       "      <td>3.715069</td>\n",
       "    </tr>\n",
       "    <tr>\n",
       "      <th>75%</th>\n",
       "      <td>11.800000</td>\n",
       "      <td>11.902500</td>\n",
       "      <td>7.566240e+07</td>\n",
       "      <td>11.982500</td>\n",
       "      <td>11.890000</td>\n",
       "      <td>11.699721</td>\n",
       "    </tr>\n",
       "    <tr>\n",
       "      <th>max</th>\n",
       "      <td>320.359985</td>\n",
       "      <td>335.170013</td>\n",
       "      <td>9.230856e+08</td>\n",
       "      <td>346.470001</td>\n",
       "      <td>333.760010</td>\n",
       "      <td>333.760010</td>\n",
       "    </tr>\n",
       "  </tbody>\n",
       "</table>\n",
       "</div>"
      ],
      "text/plain": [
       "               Low         Open        Volume         High        Close  \\\n",
       "count  5853.000000  5853.000000  5.853000e+03  5853.000000  5853.000000   \n",
       "mean     24.494390    24.988110  6.172271e+07    25.435754    24.976619   \n",
       "std      51.379501    52.551047  4.486185e+07    53.560622    52.482870   \n",
       "min       0.333333     0.348958  1.968000e+06     0.355469     0.341146   \n",
       "25%       2.502604     2.582500  3.382080e+07     2.667500     2.591146   \n",
       "50%       3.931667     4.002500  5.160040e+07     4.075000     3.997500   \n",
       "75%      11.800000    11.902500  7.566240e+07    11.982500    11.890000   \n",
       "max     320.359985   335.170013  9.230856e+08   346.470001   333.760010   \n",
       "\n",
       "       Adjusted Close  \n",
       "count     5853.000000  \n",
       "mean        24.740922  \n",
       "std         52.525937  \n",
       "min          0.313474  \n",
       "25%          2.380965  \n",
       "50%          3.715069  \n",
       "75%         11.699721  \n",
       "max        333.760010  "
      ]
     },
     "execution_count": 8,
     "metadata": {},
     "output_type": "execute_result"
    }
   ],
   "source": [
    "ticker_df.describe()"
   ]
  },
  {
   "cell_type": "markdown",
   "id": "2ec1fc11",
   "metadata": {},
   "source": [
    "#### 2.1.2 Initial Cleaning of dataset"
   ]
  },
  {
   "cell_type": "code",
   "execution_count": null,
   "id": "9446e022",
   "metadata": {},
   "outputs": [],
   "source": [
    "todo"
   ]
  },
  {
   "cell_type": "markdown",
   "id": "0808f8e8",
   "metadata": {},
   "source": [
    "#### 2.1.3 Exploring and visualizing the data"
   ]
  },
  {
   "cell_type": "code",
   "execution_count": null,
   "id": "97c70496",
   "metadata": {},
   "outputs": [],
   "source": [
    "todo"
   ]
  },
  {
   "cell_type": "markdown",
   "id": "2ac0989e",
   "metadata": {},
   "source": [
    "#### 2.1.4 Preperation for machine learning"
   ]
  },
  {
   "cell_type": "code",
   "execution_count": null,
   "id": "8328b887",
   "metadata": {},
   "outputs": [],
   "source": [
    "todo"
   ]
  },
  {
   "cell_type": "markdown",
   "id": "88e2a4e3-3a26-4a0d-8d3a-0956d5831ae1",
   "metadata": {},
   "source": [
    "### 2.2 News dataset"
   ]
  },
  {
   "cell_type": "code",
   "execution_count": 110,
   "id": "986daf69-8642-4749-835a-f70bc582bf62",
   "metadata": {},
   "outputs": [],
   "source": [
    "news_df = pd.read_csv('../data/news/analyst_ratings_processed.csv', delimiter=\",\")"
   ]
  },
  {
   "cell_type": "code",
   "execution_count": 111,
   "id": "6c6dd5a1-d445-44bc-a1f6-f74a938ad7d5",
   "metadata": {},
   "outputs": [
    {
     "data": {
      "text/html": [
       "<div>\n",
       "<style scoped>\n",
       "    .dataframe tbody tr th:only-of-type {\n",
       "        vertical-align: middle;\n",
       "    }\n",
       "\n",
       "    .dataframe tbody tr th {\n",
       "        vertical-align: top;\n",
       "    }\n",
       "\n",
       "    .dataframe thead th {\n",
       "        text-align: right;\n",
       "    }\n",
       "</style>\n",
       "<table border=\"1\" class=\"dataframe\">\n",
       "  <thead>\n",
       "    <tr style=\"text-align: right;\">\n",
       "      <th></th>\n",
       "      <th>Unnamed: 0</th>\n",
       "      <th>title</th>\n",
       "      <th>date</th>\n",
       "      <th>stock</th>\n",
       "    </tr>\n",
       "  </thead>\n",
       "  <tbody>\n",
       "    <tr>\n",
       "      <th>0</th>\n",
       "      <td>0.0</td>\n",
       "      <td>Stocks That Hit 52-Week Highs On Friday</td>\n",
       "      <td>2020-06-05 10:30:00-04:00</td>\n",
       "      <td>A</td>\n",
       "    </tr>\n",
       "    <tr>\n",
       "      <th>1</th>\n",
       "      <td>1.0</td>\n",
       "      <td>Stocks That Hit 52-Week Highs On Wednesday</td>\n",
       "      <td>2020-06-03 10:45:00-04:00</td>\n",
       "      <td>A</td>\n",
       "    </tr>\n",
       "    <tr>\n",
       "      <th>2</th>\n",
       "      <td>2.0</td>\n",
       "      <td>71 Biggest Movers From Friday</td>\n",
       "      <td>2020-05-26 04:30:00-04:00</td>\n",
       "      <td>A</td>\n",
       "    </tr>\n",
       "    <tr>\n",
       "      <th>3</th>\n",
       "      <td>3.0</td>\n",
       "      <td>46 Stocks Moving In Friday's Mid-Day Session</td>\n",
       "      <td>2020-05-22 12:45:00-04:00</td>\n",
       "      <td>A</td>\n",
       "    </tr>\n",
       "    <tr>\n",
       "      <th>4</th>\n",
       "      <td>4.0</td>\n",
       "      <td>B of A Securities Maintains Neutral on Agilent...</td>\n",
       "      <td>2020-05-22 11:38:00-04:00</td>\n",
       "      <td>A</td>\n",
       "    </tr>\n",
       "  </tbody>\n",
       "</table>\n",
       "</div>"
      ],
      "text/plain": [
       "   Unnamed: 0                                              title  \\\n",
       "0         0.0            Stocks That Hit 52-Week Highs On Friday   \n",
       "1         1.0         Stocks That Hit 52-Week Highs On Wednesday   \n",
       "2         2.0                      71 Biggest Movers From Friday   \n",
       "3         3.0       46 Stocks Moving In Friday's Mid-Day Session   \n",
       "4         4.0  B of A Securities Maintains Neutral on Agilent...   \n",
       "\n",
       "                        date stock  \n",
       "0  2020-06-05 10:30:00-04:00     A  \n",
       "1  2020-06-03 10:45:00-04:00     A  \n",
       "2  2020-05-26 04:30:00-04:00     A  \n",
       "3  2020-05-22 12:45:00-04:00     A  \n",
       "4  2020-05-22 11:38:00-04:00     A  "
      ]
     },
     "execution_count": 111,
     "metadata": {},
     "output_type": "execute_result"
    }
   ],
   "source": [
    "news_df.head()"
   ]
  },
  {
   "cell_type": "code",
   "execution_count": 112,
   "id": "e1cfb57d-91e7-4588-aa41-af3cf6bcb1bf",
   "metadata": {},
   "outputs": [
    {
     "data": {
      "text/html": [
       "<div>\n",
       "<style scoped>\n",
       "    .dataframe tbody tr th:only-of-type {\n",
       "        vertical-align: middle;\n",
       "    }\n",
       "\n",
       "    .dataframe tbody tr th {\n",
       "        vertical-align: top;\n",
       "    }\n",
       "\n",
       "    .dataframe thead th {\n",
       "        text-align: right;\n",
       "    }\n",
       "</style>\n",
       "<table border=\"1\" class=\"dataframe\">\n",
       "  <thead>\n",
       "    <tr style=\"text-align: right;\">\n",
       "      <th></th>\n",
       "      <th>Unnamed: 0</th>\n",
       "      <th>title</th>\n",
       "      <th>date</th>\n",
       "      <th>stock</th>\n",
       "    </tr>\n",
       "  </thead>\n",
       "  <tbody>\n",
       "    <tr>\n",
       "      <th>1400464</th>\n",
       "      <td>1413844.0</td>\n",
       "      <td>Top Narrow Based Indexes For August 29</td>\n",
       "      <td>2011-08-29 10:41:00-04:00</td>\n",
       "      <td>ZX</td>\n",
       "    </tr>\n",
       "    <tr>\n",
       "      <th>1400465</th>\n",
       "      <td>1413845.0</td>\n",
       "      <td>Recap: Wednesday's Top Percentage Gainers and ...</td>\n",
       "      <td>2011-06-22 16:44:00-04:00</td>\n",
       "      <td>ZX</td>\n",
       "    </tr>\n",
       "    <tr>\n",
       "      <th>1400466</th>\n",
       "      <td>1413846.0</td>\n",
       "      <td>UPDATE: Oppenheimer Color on China Zenix Auto ...</td>\n",
       "      <td>2011-06-21 08:26:00-04:00</td>\n",
       "      <td>ZX</td>\n",
       "    </tr>\n",
       "    <tr>\n",
       "      <th>1400467</th>\n",
       "      <td>1413847.0</td>\n",
       "      <td>Oppenheimer Initiates China Zenix At Outperfor...</td>\n",
       "      <td>2011-06-21 05:59:00-04:00</td>\n",
       "      <td>ZX</td>\n",
       "    </tr>\n",
       "    <tr>\n",
       "      <th>1400468</th>\n",
       "      <td>1413848.0</td>\n",
       "      <td>China Zenix Auto International Opens For Tradi...</td>\n",
       "      <td>2011-05-12 09:36:00-04:00</td>\n",
       "      <td>ZX</td>\n",
       "    </tr>\n",
       "  </tbody>\n",
       "</table>\n",
       "</div>"
      ],
      "text/plain": [
       "         Unnamed: 0                                              title  \\\n",
       "1400464   1413844.0             Top Narrow Based Indexes For August 29   \n",
       "1400465   1413845.0  Recap: Wednesday's Top Percentage Gainers and ...   \n",
       "1400466   1413846.0  UPDATE: Oppenheimer Color on China Zenix Auto ...   \n",
       "1400467   1413847.0  Oppenheimer Initiates China Zenix At Outperfor...   \n",
       "1400468   1413848.0  China Zenix Auto International Opens For Tradi...   \n",
       "\n",
       "                              date stock  \n",
       "1400464  2011-08-29 10:41:00-04:00    ZX  \n",
       "1400465  2011-06-22 16:44:00-04:00    ZX  \n",
       "1400466  2011-06-21 08:26:00-04:00    ZX  \n",
       "1400467  2011-06-21 05:59:00-04:00    ZX  \n",
       "1400468  2011-05-12 09:36:00-04:00    ZX  "
      ]
     },
     "execution_count": 112,
     "metadata": {},
     "output_type": "execute_result"
    }
   ],
   "source": [
    "news_df.tail()"
   ]
  },
  {
   "cell_type": "markdown",
   "id": "a0f8f5ef",
   "metadata": {},
   "source": [
    "#### 2.2.1 describing dataset"
   ]
  },
  {
   "cell_type": "code",
   "execution_count": 113,
   "id": "4a5ca839",
   "metadata": {},
   "outputs": [
    {
     "data": {
      "text/plain": [
       "(1400469, 4)"
      ]
     },
     "execution_count": 113,
     "metadata": {},
     "output_type": "execute_result"
    }
   ],
   "source": [
    "news_df.shape"
   ]
  },
  {
   "cell_type": "code",
   "execution_count": 114,
   "id": "c2ec836a",
   "metadata": {},
   "outputs": [
    {
     "data": {
      "text/plain": [
       "Index(['Unnamed: 0', 'title', 'date', 'stock'], dtype='object')"
      ]
     },
     "execution_count": 114,
     "metadata": {},
     "output_type": "execute_result"
    }
   ],
   "source": [
    "news_df.columns"
   ]
  },
  {
   "cell_type": "code",
   "execution_count": 115,
   "id": "2a9c6c41",
   "metadata": {},
   "outputs": [
    {
     "name": "stdout",
     "output_type": "stream",
     "text": [
      "<class 'pandas.core.frame.DataFrame'>\n",
      "RangeIndex: 1400469 entries, 0 to 1400468\n",
      "Data columns (total 4 columns):\n",
      " #   Column      Non-Null Count    Dtype  \n",
      "---  ------      --------------    -----  \n",
      " 0   Unnamed: 0  1399180 non-null  float64\n",
      " 1   title       1400469 non-null  object \n",
      " 2   date        1399180 non-null  object \n",
      " 3   stock       1397891 non-null  object \n",
      "dtypes: float64(1), object(3)\n",
      "memory usage: 42.7+ MB\n"
     ]
    }
   ],
   "source": [
    "news_df.info()"
   ]
  },
  {
   "cell_type": "code",
   "execution_count": 116,
   "id": "2d63fd2c",
   "metadata": {},
   "outputs": [
    {
     "data": {
      "text/plain": [
       "Unnamed: 0    1289\n",
       "title            0\n",
       "date          1289\n",
       "stock         2578\n",
       "dtype: int64"
      ]
     },
     "execution_count": 116,
     "metadata": {},
     "output_type": "execute_result"
    }
   ],
   "source": [
    "news_df.isnull().sum()"
   ]
  },
  {
   "cell_type": "markdown",
   "id": "bf63933f",
   "metadata": {},
   "source": [
    "#### 2.2.2 Initial Cleaning of dataset\n",
    "Our todo list for cleaning is as following:\n",
    "1. Remove the unnamed column, as this column represent some kind of index, however since there are null values, its pretty useless\n",
    "2. Remove rows that contain any kind of null value. Since we have 1m+ data rows we wont worry about a few thousands being dropped. since there is no value in using any average tool or other techniques to fill out these rows.\n",
    "3. Converting dates into pandas datatime objects in a new column called date_time"
   ]
  },
  {
   "cell_type": "code",
   "execution_count": 49,
   "id": "769a6a60",
   "metadata": {},
   "outputs": [
    {
     "data": {
      "text/html": [
       "<div>\n",
       "<style scoped>\n",
       "    .dataframe tbody tr th:only-of-type {\n",
       "        vertical-align: middle;\n",
       "    }\n",
       "\n",
       "    .dataframe tbody tr th {\n",
       "        vertical-align: top;\n",
       "    }\n",
       "\n",
       "    .dataframe thead th {\n",
       "        text-align: right;\n",
       "    }\n",
       "</style>\n",
       "<table border=\"1\" class=\"dataframe\">\n",
       "  <thead>\n",
       "    <tr style=\"text-align: right;\">\n",
       "      <th></th>\n",
       "      <th>title</th>\n",
       "      <th>date</th>\n",
       "      <th>stock</th>\n",
       "    </tr>\n",
       "  </thead>\n",
       "  <tbody>\n",
       "    <tr>\n",
       "      <th>0</th>\n",
       "      <td>Stocks That Hit 52-Week Highs On Friday</td>\n",
       "      <td>2020-06-05 10:30:00-04:00</td>\n",
       "      <td>A</td>\n",
       "    </tr>\n",
       "    <tr>\n",
       "      <th>1</th>\n",
       "      <td>Stocks That Hit 52-Week Highs On Wednesday</td>\n",
       "      <td>2020-06-03 10:45:00-04:00</td>\n",
       "      <td>A</td>\n",
       "    </tr>\n",
       "    <tr>\n",
       "      <th>2</th>\n",
       "      <td>71 Biggest Movers From Friday</td>\n",
       "      <td>2020-05-26 04:30:00-04:00</td>\n",
       "      <td>A</td>\n",
       "    </tr>\n",
       "    <tr>\n",
       "      <th>3</th>\n",
       "      <td>46 Stocks Moving In Friday's Mid-Day Session</td>\n",
       "      <td>2020-05-22 12:45:00-04:00</td>\n",
       "      <td>A</td>\n",
       "    </tr>\n",
       "    <tr>\n",
       "      <th>4</th>\n",
       "      <td>B of A Securities Maintains Neutral on Agilent...</td>\n",
       "      <td>2020-05-22 11:38:00-04:00</td>\n",
       "      <td>A</td>\n",
       "    </tr>\n",
       "  </tbody>\n",
       "</table>\n",
       "</div>"
      ],
      "text/plain": [
       "                                               title  \\\n",
       "0            Stocks That Hit 52-Week Highs On Friday   \n",
       "1         Stocks That Hit 52-Week Highs On Wednesday   \n",
       "2                      71 Biggest Movers From Friday   \n",
       "3       46 Stocks Moving In Friday's Mid-Day Session   \n",
       "4  B of A Securities Maintains Neutral on Agilent...   \n",
       "\n",
       "                        date stock  \n",
       "0  2020-06-05 10:30:00-04:00     A  \n",
       "1  2020-06-03 10:45:00-04:00     A  \n",
       "2  2020-05-26 04:30:00-04:00     A  \n",
       "3  2020-05-22 12:45:00-04:00     A  \n",
       "4  2020-05-22 11:38:00-04:00     A  "
      ]
     },
     "execution_count": 49,
     "metadata": {},
     "output_type": "execute_result"
    }
   ],
   "source": [
    "# Removing Unnamed column (index)\n",
    "news_df = news_df.iloc[:,1:]\n",
    "news_df.head()"
   ]
  },
  {
   "cell_type": "code",
   "execution_count": 75,
   "id": "049f785f",
   "metadata": {},
   "outputs": [
    {
     "data": {
      "text/plain": [
       "title        0\n",
       "date         0\n",
       "stock        0\n",
       "date_time    0\n",
       "dtype: int64"
      ]
     },
     "execution_count": 75,
     "metadata": {},
     "output_type": "execute_result"
    }
   ],
   "source": [
    "#Removing rows that contain null values\n",
    "news_df.dropna(inplace=True)\n",
    "news_df.isnull().sum()"
   ]
  },
  {
   "cell_type": "code",
   "execution_count": 51,
   "id": "55ac015f",
   "metadata": {},
   "outputs": [],
   "source": [
    "#Converting date into pandas datetime and putting into date_time column\n",
    "news_df['date_time'] = pd.to_datetime(news_df['date'].str[:19], format=\"%Y-%m-%d %H:%M:%S\", errors='coerce')"
   ]
  },
  {
   "cell_type": "code",
   "execution_count": 52,
   "id": "3deeb5ff",
   "metadata": {},
   "outputs": [
    {
     "data": {
      "text/plain": [
       "0         2020-06-05 10:30:00\n",
       "1         2020-06-03 10:45:00\n",
       "2         2020-05-26 04:30:00\n",
       "3         2020-05-22 12:45:00\n",
       "4         2020-05-22 11:38:00\n",
       "                  ...        \n",
       "1400464   2011-08-29 10:41:00\n",
       "1400465   2011-06-22 16:44:00\n",
       "1400466   2011-06-21 08:26:00\n",
       "1400467   2011-06-21 05:59:00\n",
       "1400468   2011-05-12 09:36:00\n",
       "Name: date_time, Length: 1397891, dtype: datetime64[ns]"
      ]
     },
     "execution_count": 52,
     "metadata": {},
     "output_type": "execute_result"
    }
   ],
   "source": [
    "news_df['date_time']"
   ]
  },
  {
   "cell_type": "markdown",
   "id": "0b96e20d",
   "metadata": {},
   "source": [
    "#### 2.2.3 Exploring and visualizing the data"
   ]
  },
  {
   "cell_type": "markdown",
   "id": "7c39616e",
   "metadata": {},
   "source": [
    "##### 2.2.3.1 Date Column\n",
    "We want to investigate the date column to see when our news data exist"
   ]
  },
  {
   "cell_type": "code",
   "execution_count": 64,
   "id": "5286622b",
   "metadata": {},
   "outputs": [
    {
     "data": {
      "text/plain": [
       "array(['02-2009', '04-2009', '05-2009', '06-2009', '07-2009', '08-2009',\n",
       "       '09-2009', '10-2009', '11-2009', '12-2009', '01-2010', '02-2010',\n",
       "       '03-2010', '04-2010', '05-2010', '06-2010', '07-2010', '08-2010',\n",
       "       '09-2010', '10-2010', '11-2010', '12-2010', '01-2011', '02-2011',\n",
       "       '03-2011', '04-2011', '05-2011', '06-2011', '07-2011', '08-2011',\n",
       "       '09-2011', '10-2011', '11-2011', '12-2011', '01-2012', '02-2012',\n",
       "       '03-2012', '04-2012', '05-2012', '06-2012', '07-2012', '08-2012',\n",
       "       '09-2012', '10-2012', '11-2012', '12-2012', '01-2013', '02-2013',\n",
       "       '03-2013', '04-2013', '05-2013', '06-2013', '07-2013', '08-2013',\n",
       "       '09-2013', '10-2013', '11-2013', '12-2013', '01-2014', '02-2014',\n",
       "       '03-2014', '04-2014', '05-2014', '06-2014', '07-2014', '08-2014',\n",
       "       '09-2014', '10-2014', '11-2014', '12-2014', '01-2015', '02-2015',\n",
       "       '03-2015', '04-2015', '05-2015', '06-2015', '07-2015', '08-2015',\n",
       "       '09-2015', '10-2015', '11-2015', '12-2015', '01-2016', '02-2016',\n",
       "       '03-2016', '04-2016', '05-2016', '06-2016', '07-2016', '08-2016',\n",
       "       '09-2016', '10-2016', '11-2016', '12-2016', '01-2017', '02-2017',\n",
       "       '03-2017', '04-2017', '05-2017', '06-2017', '07-2017', '08-2017',\n",
       "       '09-2017', '10-2017', '11-2017', '12-2017', '01-2018', '02-2018',\n",
       "       '03-2018', '04-2018', '05-2018', '06-2018', '07-2018', '08-2018',\n",
       "       '09-2018', '10-2018', '11-2018', '12-2018', '01-2019', '02-2019',\n",
       "       '03-2019', '04-2019', '05-2019', '06-2019', '07-2019', '08-2019',\n",
       "       '09-2019', '10-2019', '11-2019', '12-2019', '01-2020', '02-2020',\n",
       "       '03-2020', '04-2020', '05-2020', '06-2020'], dtype=object)"
      ]
     },
     "execution_count": 64,
     "metadata": {},
     "output_type": "execute_result"
    }
   ],
   "source": [
    "sorted_news_df = news_df.sort_values(by = 'date_time')\n",
    "sorted_news_df['combined'] = sorted_news_df['date_time'].dt.month.astype(str).str.zfill(2) + '-' +  sorted_news_df['date_time'].dt.year.astype(str).str[:4]\n",
    "sorted_news_df['combined'].unique()"
   ]
  },
  {
   "cell_type": "code",
   "execution_count": 65,
   "id": "0237a11e",
   "metadata": {},
   "outputs": [
    {
     "data": {
      "image/png": "[encoded data removed]",
      "text/plain": [
       "<Figure size 1080x576 with 1 Axes>"
      ]
     },
     "metadata": {},
     "output_type": "display_data"
    }
   ],
   "source": [
    "sns.set(rc = {'figure.figsize':(15,8)})\n",
    "chart = sns.countplot(x='combined', data=sorted_news_df)\n",
    "chart.tick_params(axis = 'x', rotation = 90)"
   ]
  },
  {
   "cell_type": "markdown",
   "id": "c81deeef",
   "metadata": {},
   "source": [
    "we can see that there are very few news stories from before 08-2020. therefore we will remove this data, this account for around 45k rows."
   ]
  },
  {
   "cell_type": "code",
   "execution_count": 72,
   "id": "be15ca6b",
   "metadata": {},
   "outputs": [],
   "source": [
    "news_df = news_df[~(news_df['date_time'] < '2010-08-01')]"
   ]
  },
  {
   "cell_type": "code",
   "execution_count": 73,
   "id": "5c8797be",
   "metadata": {},
   "outputs": [
    {
     "data": {
      "text/plain": [
       "array(['08-2010', '09-2010', '10-2010', '11-2010', '12-2010', '01-2011',\n",
       "       '02-2011', '03-2011', '04-2011', '05-2011', '06-2011', '07-2011',\n",
       "       '08-2011', '09-2011', '10-2011', '11-2011', '12-2011', '01-2012',\n",
       "       '02-2012', '03-2012', '04-2012', '05-2012', '06-2012', '07-2012',\n",
       "       '08-2012', '09-2012', '10-2012', '11-2012', '12-2012', '01-2013',\n",
       "       '02-2013', '03-2013', '04-2013', '05-2013', '06-2013', '07-2013',\n",
       "       '08-2013', '09-2013', '10-2013', '11-2013', '12-2013', '01-2014',\n",
       "       '02-2014', '03-2014', '04-2014', '05-2014', '06-2014', '07-2014',\n",
       "       '08-2014', '09-2014', '10-2014', '11-2014', '12-2014', '01-2015',\n",
       "       '02-2015', '03-2015', '04-2015', '05-2015', '06-2015', '07-2015',\n",
       "       '08-2015', '09-2015', '10-2015', '11-2015', '12-2015', '01-2016',\n",
       "       '02-2016', '03-2016', '04-2016', '05-2016', '06-2016', '07-2016',\n",
       "       '08-2016', '09-2016', '10-2016', '11-2016', '12-2016', '01-2017',\n",
       "       '02-2017', '03-2017', '04-2017', '05-2017', '06-2017', '07-2017',\n",
       "       '08-2017', '09-2017', '10-2017', '11-2017', '12-2017', '01-2018',\n",
       "       '02-2018', '03-2018', '04-2018', '05-2018', '06-2018', '07-2018',\n",
       "       '08-2018', '09-2018', '10-2018', '11-2018', '12-2018', '01-2019',\n",
       "       '02-2019', '03-2019', '04-2019', '05-2019', '06-2019', '07-2019',\n",
       "       '08-2019', '09-2019', '10-2019', '11-2019', '12-2019', '01-2020',\n",
       "       '02-2020', '03-2020', '04-2020', '05-2020', '06-2020'],\n",
       "      dtype=object)"
      ]
     },
     "execution_count": 73,
     "metadata": {},
     "output_type": "execute_result"
    }
   ],
   "source": [
    "sorted_news_df = news_df.sort_values(by = 'date_time')\n",
    "sorted_news_df['combined'] = sorted_news_df['date_time'].dt.month.astype(str).str.zfill(2) + '-' +  sorted_news_df['date_time'].dt.year.astype(str).str[:4]\n",
    "sorted_news_df['combined'].unique()"
   ]
  },
  {
   "cell_type": "code",
   "execution_count": 74,
   "id": "4df0fcea",
   "metadata": {
    "scrolled": true
   },
   "outputs": [
    {
     "data": {
      "image/png": "[encoded data removed]",
      "text/plain": [
       "<Figure size 1080x576 with 1 Axes>"
      ]
     },
     "metadata": {},
     "output_type": "display_data"
    }
   ],
   "source": [
    "sns.set(rc = {'figure.figsize':(15,8)})\n",
    "chart = sns.countplot(x='combined', data=sorted_news_df)\n",
    "chart.tick_params(axis = 'x', rotation = 90)"
   ]
  },
  {
   "cell_type": "markdown",
   "id": "13480e02",
   "metadata": {},
   "source": [
    "#### 2.2.3.2 Stock Column"
   ]
  },
  {
   "cell_type": "markdown",
   "id": "e884f003",
   "metadata": {},
   "source": [
    "we want to investigate how many news stories that are related to each stock"
   ]
  },
  {
   "cell_type": "code",
   "execution_count": 79,
   "id": "ceaf912a",
   "metadata": {},
   "outputs": [
    {
     "data": {
      "text/plain": [
       "MRK     3179\n",
       "MU      3144\n",
       "NVDA    3133\n",
       "QQQ     3100\n",
       "EBAY    3021\n",
       "Name: stock, dtype: int64"
      ]
     },
     "execution_count": 79,
     "metadata": {},
     "output_type": "execute_result"
    }
   ],
   "source": [
    "df = news_df[\"stock\"].value_counts()\n",
    "df.head()"
   ]
  },
  {
   "cell_type": "code",
   "execution_count": 81,
   "id": "347a1921",
   "metadata": {},
   "outputs": [
    {
     "data": {
      "image/png": "[encoded data removed]",
      "text/plain": [
       "<Figure size 1080x576 with 1 Axes>"
      ]
     },
     "metadata": {},
     "output_type": "display_data"
    }
   ],
   "source": [
    "sns.set(rc = {'figure.figsize':(15,8)})\n",
    "sns.set_theme(style=\"whitegrid\")\n",
    "ax = sns.boxplot(x=df)"
   ]
  },
  {
   "cell_type": "code",
   "execution_count": 104,
   "id": "bfd433fc",
   "metadata": {},
   "outputs": [],
   "source": [
    "most_interesting_stocks = df[~(df.iloc[:] <= 2000)]  "
   ]
  },
  {
   "cell_type": "code",
   "execution_count": 106,
   "id": "59ea9f2e",
   "metadata": {},
   "outputs": [
    {
     "data": {
      "text/plain": [
       "(41,)"
      ]
     },
     "execution_count": 106,
     "metadata": {},
     "output_type": "execute_result"
    }
   ],
   "source": [
    "most_interesting_stocks.shape"
   ]
  },
  {
   "cell_type": "code",
   "execution_count": 108,
   "id": "65000166",
   "metadata": {
    "scrolled": true
   },
   "outputs": [
    {
     "data": {
      "text/plain": [
       "MRK     3179\n",
       "MU      3144\n",
       "NVDA    3133\n",
       "QQQ     3100\n",
       "EBAY    3021\n",
       "NFLX    3009\n",
       "VZ      2937\n",
       "JNJ     2927\n",
       "QCOM    2915\n",
       "MS      2892\n",
       "GILD    2882\n",
       "BABA    2820\n",
       "M       2801\n",
       "DAL     2794\n",
       "ORCL    2695\n",
       "WFC     2612\n",
       "KO      2595\n",
       "BBRY    2570\n",
       "JCP     2498\n",
       "FDX     2495\n",
       "BMY     2437\n",
       "HD      2424\n",
       "CMG     2365\n",
       "AGN     2353\n",
       "LLY     2328\n",
       "CAT     2299\n",
       "GPRO    2292\n",
       "FSLR    2232\n",
       "P       2216\n",
       "MCD     2208\n",
       "LMT     2189\n",
       "CHK     2184\n",
       "TWX     2175\n",
       "EWU     2141\n",
       "XLF     2113\n",
       "GRPN    2093\n",
       "EA      2053\n",
       "NOK     2046\n",
       "GLD     2034\n",
       "EWP     2027\n",
       "GPS     2024\n",
       "Name: stock, dtype: int64"
      ]
     },
     "execution_count": 108,
     "metadata": {},
     "output_type": "execute_result"
    }
   ],
   "source": [
    "most_interesting_stocks.head(41)"
   ]
  },
  {
   "cell_type": "markdown",
   "id": "c17ba08d",
   "metadata": {},
   "source": [
    "#### 2.2.4 Preperation for machine learning"
   ]
  },
  {
   "cell_type": "code",
   "execution_count": 68,
   "id": "430d5de6",
   "metadata": {},
   "outputs": [],
   "source": [
    "#vectorization of headlines\n",
    "#https://spacy.io/"
   ]
  },
  {
   "cell_type": "markdown",
   "id": "1d0606e8-d7f4-4076-84a9-6d6efa3cf97f",
   "metadata": {},
   "source": [
    "### 2.3 Combining dataset"
   ]
  },
  {
   "cell_type": "code",
   "execution_count": 19,
   "id": "922ef856-06bf-4d4c-ad85-512bd86c5781",
   "metadata": {},
   "outputs": [],
   "source": [
    "#Is this necessary?\n",
    "\n",
    "#Date - # news features - y værdie er ticker up or down"
   ]
  },
  {
   "cell_type": "markdown",
   "id": "f9516cad",
   "metadata": {},
   "source": [
    "## 3. Machine Learning"
   ]
  },
  {
   "cell_type": "code",
   "execution_count": null,
   "id": "060289c4",
   "metadata": {},
   "outputs": [],
   "source": []
  },
  {
   "cell_type": "markdown",
   "id": "e10f77b8",
   "metadata": {},
   "source": [
    "## 4. Visualiaztion"
   ]
  },
  {
   "cell_type": "code",
   "execution_count": null,
   "id": "3f699e7b",
   "metadata": {},
   "outputs": [],
   "source": []
  },
  {
   "cell_type": "markdown",
   "id": "f5773e65",
   "metadata": {},
   "source": [
    "## 5. Project solution"
   ]
  },
  {
   "cell_type": "code",
   "execution_count": null,
   "id": "ae393d63",
   "metadata": {},
   "outputs": [],
   "source": []
  }
 ],
 "metadata": {
  "kernelspec": {
   "display_name": "Python 3 (ipykernel)",
   "language": "python",
   "name": "python3"
  },
  "language_info": {
   "codemirror_mode": {
    "name": "ipython",
    "version": 3
   },
   "file_extension": ".py",
   "mimetype": "text/x-python",
   "name": "python",
   "nbconvert_exporter": "python",
   "pygments_lexer": "ipython3",
   "version": "3.9.7"
  }
 },
 "nbformat": 4,
 "nbformat_minor": 5
}
